{
 "cells": [
  {
   "cell_type": "code",
   "execution_count": 61,
   "id": "15b131af",
   "metadata": {},
   "outputs": [],
   "source": [
    "import pandas as pd"
   ]
  },
  {
   "cell_type": "code",
   "execution_count": 62,
   "id": "47275e7b",
   "metadata": {},
   "outputs": [
    {
     "name": "stdout",
     "output_type": "stream",
     "text": [
      "<class 'pandas.core.frame.DataFrame'>\n",
      "RangeIndex: 356 entries, 0 to 355\n",
      "Data columns (total 3 columns):\n",
      " #   Column       Non-Null Count  Dtype         \n",
      "---  ------       --------------  -----         \n",
      " 0   Item Number  356 non-null    object        \n",
      " 1   Date         356 non-null    datetime64[ns]\n",
      " 2   Inventory    356 non-null    int64         \n",
      "dtypes: datetime64[ns](1), int64(1), object(1)\n",
      "memory usage: 8.5+ KB\n"
     ]
    }
   ],
   "source": [
    "DF1 = pd.read_excel(r'D:\\JOB\\Data\\cpoint5\\Inventory Dataset.xlsx')\n",
    "DF1['Inventory'] = pd.to_numeric(DF1['Inventory'], errors='coerce')\n",
    "DF1.info()"
   ]
  },
  {
   "cell_type": "code",
   "execution_count": 63,
   "id": "28ba02e2",
   "metadata": {},
   "outputs": [
    {
     "data": {
      "text/plain": [
       "array(['2023-06-17T00:00:00.000000000'], dtype='datetime64[ns]')"
      ]
     },
     "execution_count": 63,
     "metadata": {},
     "output_type": "execute_result"
    }
   ],
   "source": [
    "DF1['Date'].unique()"
   ]
  },
  {
   "cell_type": "code",
   "execution_count": 64,
   "id": "d8aa0b38",
   "metadata": {},
   "outputs": [
    {
     "data": {
      "text/html": [
       "<div>\n",
       "<style scoped>\n",
       "    .dataframe tbody tr th:only-of-type {\n",
       "        vertical-align: middle;\n",
       "    }\n",
       "\n",
       "    .dataframe tbody tr th {\n",
       "        vertical-align: top;\n",
       "    }\n",
       "\n",
       "    .dataframe thead th {\n",
       "        text-align: right;\n",
       "    }\n",
       "</style>\n",
       "<table border=\"1\" class=\"dataframe\">\n",
       "  <thead>\n",
       "    <tr style=\"text-align: right;\">\n",
       "      <th></th>\n",
       "      <th>Item Number</th>\n",
       "      <th>Inventory</th>\n",
       "    </tr>\n",
       "  </thead>\n",
       "  <tbody>\n",
       "    <tr>\n",
       "      <th>0</th>\n",
       "      <td>064-01-1347</td>\n",
       "      <td>3561</td>\n",
       "    </tr>\n",
       "    <tr>\n",
       "      <th>1</th>\n",
       "      <td>064-01-1361</td>\n",
       "      <td>4035</td>\n",
       "    </tr>\n",
       "    <tr>\n",
       "      <th>2</th>\n",
       "      <td>064-01-1375</td>\n",
       "      <td>2684</td>\n",
       "    </tr>\n",
       "    <tr>\n",
       "      <th>3</th>\n",
       "      <td>064-01-1385</td>\n",
       "      <td>5136</td>\n",
       "    </tr>\n",
       "    <tr>\n",
       "      <th>4</th>\n",
       "      <td>064-01-1399</td>\n",
       "      <td>6399</td>\n",
       "    </tr>\n",
       "  </tbody>\n",
       "</table>\n",
       "</div>"
      ],
      "text/plain": [
       "   Item Number  Inventory\n",
       "0  064-01-1347       3561\n",
       "1  064-01-1361       4035\n",
       "2  064-01-1375       2684\n",
       "3  064-01-1385       5136\n",
       "4  064-01-1399       6399"
      ]
     },
     "execution_count": 64,
     "metadata": {},
     "output_type": "execute_result"
    }
   ],
   "source": [
    "DF1.drop('Date', axis=1, inplace=True)\n",
    "DF1.head()"
   ]
  },
  {
   "cell_type": "code",
   "execution_count": 65,
   "id": "afdcb972",
   "metadata": {},
   "outputs": [
    {
     "data": {
      "text/html": [
       "<div>\n",
       "<style scoped>\n",
       "    .dataframe tbody tr th:only-of-type {\n",
       "        vertical-align: middle;\n",
       "    }\n",
       "\n",
       "    .dataframe tbody tr th {\n",
       "        vertical-align: top;\n",
       "    }\n",
       "\n",
       "    .dataframe thead th {\n",
       "        text-align: right;\n",
       "    }\n",
       "</style>\n",
       "<table border=\"1\" class=\"dataframe\">\n",
       "  <thead>\n",
       "    <tr style=\"text-align: right;\">\n",
       "      <th></th>\n",
       "      <th>Item Number</th>\n",
       "      <th>Inventory Receive</th>\n",
       "      <th>Total Item Qty</th>\n",
       "    </tr>\n",
       "  </thead>\n",
       "  <tbody>\n",
       "    <tr>\n",
       "      <th>0</th>\n",
       "      <td>064-13-0002</td>\n",
       "      <td>2023-07-07</td>\n",
       "      <td>700</td>\n",
       "    </tr>\n",
       "    <tr>\n",
       "      <th>1</th>\n",
       "      <td>064-13-0338</td>\n",
       "      <td>2023-07-07</td>\n",
       "      <td>1700</td>\n",
       "    </tr>\n",
       "    <tr>\n",
       "      <th>2</th>\n",
       "      <td>064-13-0340</td>\n",
       "      <td>2023-07-07</td>\n",
       "      <td>1000</td>\n",
       "    </tr>\n",
       "    <tr>\n",
       "      <th>3</th>\n",
       "      <td>064-13-0353</td>\n",
       "      <td>2023-07-07</td>\n",
       "      <td>1900</td>\n",
       "    </tr>\n",
       "    <tr>\n",
       "      <th>4</th>\n",
       "      <td>064-13-0416</td>\n",
       "      <td>2023-07-07</td>\n",
       "      <td>1000</td>\n",
       "    </tr>\n",
       "  </tbody>\n",
       "</table>\n",
       "</div>"
      ],
      "text/plain": [
       "   Item Number Inventory Receive  Total Item Qty\n",
       "0  064-13-0002        2023-07-07             700\n",
       "1  064-13-0338        2023-07-07            1700\n",
       "2  064-13-0340        2023-07-07            1000\n",
       "3  064-13-0353        2023-07-07            1900\n",
       "4  064-13-0416        2023-07-07            1000"
      ]
     },
     "execution_count": 65,
     "metadata": {},
     "output_type": "execute_result"
    }
   ],
   "source": [
    "DF2 = pd.read_excel(r'D:\\JOB\\Data\\cpoint5\\New Inventory.xlsx')\n",
    "DF2['Total Item Qty'] = pd.to_numeric(DF2['Total Item Qty'], errors='coerce')\n",
    "DF2.head()"
   ]
  },
  {
   "cell_type": "code",
   "execution_count": 66,
   "id": "2e36a152",
   "metadata": {},
   "outputs": [
    {
     "name": "stdout",
     "output_type": "stream",
     "text": [
      "<class 'pandas.core.frame.DataFrame'>\n",
      "RangeIndex: 1039 entries, 0 to 1038\n",
      "Data columns (total 3 columns):\n",
      " #   Column             Non-Null Count  Dtype         \n",
      "---  ------             --------------  -----         \n",
      " 0   Item Number        1039 non-null   object        \n",
      " 1   Inventory Receive  1039 non-null   datetime64[ns]\n",
      " 2   Total Item Qty     1039 non-null   int64         \n",
      "dtypes: datetime64[ns](1), int64(1), object(1)\n",
      "memory usage: 24.5+ KB\n"
     ]
    }
   ],
   "source": [
    "DF2.info()"
   ]
  },
  {
   "cell_type": "code",
   "execution_count": 78,
   "id": "37f55784",
   "metadata": {},
   "outputs": [
    {
     "data": {
      "text/html": [
       "<div>\n",
       "<style scoped>\n",
       "    .dataframe tbody tr th:only-of-type {\n",
       "        vertical-align: middle;\n",
       "    }\n",
       "\n",
       "    .dataframe tbody tr th {\n",
       "        vertical-align: top;\n",
       "    }\n",
       "\n",
       "    .dataframe thead th {\n",
       "        text-align: right;\n",
       "    }\n",
       "</style>\n",
       "<table border=\"1\" class=\"dataframe\">\n",
       "  <thead>\n",
       "    <tr style=\"text-align: right;\">\n",
       "      <th></th>\n",
       "      <th>Item Number</th>\n",
       "      <th>Inventory</th>\n",
       "      <th>Inventory Receive</th>\n",
       "      <th>Total Item Qty</th>\n",
       "    </tr>\n",
       "  </thead>\n",
       "  <tbody>\n",
       "    <tr>\n",
       "      <th>0</th>\n",
       "      <td>064-01-1347</td>\n",
       "      <td>3561</td>\n",
       "      <td>2023-07-10</td>\n",
       "      <td>2000</td>\n",
       "    </tr>\n",
       "    <tr>\n",
       "      <th>1</th>\n",
       "      <td>064-01-1347</td>\n",
       "      <td>3561</td>\n",
       "      <td>2023-07-07</td>\n",
       "      <td>1000</td>\n",
       "    </tr>\n",
       "    <tr>\n",
       "      <th>2</th>\n",
       "      <td>064-01-1347</td>\n",
       "      <td>3561</td>\n",
       "      <td>2023-07-09</td>\n",
       "      <td>3568</td>\n",
       "    </tr>\n",
       "    <tr>\n",
       "      <th>3</th>\n",
       "      <td>064-01-1347</td>\n",
       "      <td>3561</td>\n",
       "      <td>2023-08-04</td>\n",
       "      <td>1800</td>\n",
       "    </tr>\n",
       "    <tr>\n",
       "      <th>4</th>\n",
       "      <td>064-01-1361</td>\n",
       "      <td>4035</td>\n",
       "      <td>2023-07-10</td>\n",
       "      <td>2000</td>\n",
       "    </tr>\n",
       "  </tbody>\n",
       "</table>\n",
       "</div>"
      ],
      "text/plain": [
       "   Item Number  Inventory Inventory Receive  Total Item Qty\n",
       "0  064-01-1347       3561        2023-07-10            2000\n",
       "1  064-01-1347       3561        2023-07-07            1000\n",
       "2  064-01-1347       3561        2023-07-09            3568\n",
       "3  064-01-1347       3561        2023-08-04            1800\n",
       "4  064-01-1361       4035        2023-07-10            2000"
      ]
     },
     "execution_count": 78,
     "metadata": {},
     "output_type": "execute_result"
    }
   ],
   "source": [
    "merge=pd.merge(DF1,DF2)\n",
    "merge.head()"
   ]
  },
  {
   "cell_type": "code",
   "execution_count": 80,
   "id": "6099d1cc",
   "metadata": {},
   "outputs": [],
   "source": [
    "merge['Quantity']=merge['Inventory'] + merge['Total Item Qty']"
   ]
  },
  {
   "cell_type": "code",
   "execution_count": 82,
   "id": "ea0f58f8",
   "metadata": {},
   "outputs": [],
   "source": [
    "merge.drop('Inventory', axis=1, inplace=True)"
   ]
  },
  {
   "cell_type": "code",
   "execution_count": 84,
   "id": "9646a699",
   "metadata": {},
   "outputs": [
    {
     "data": {
      "text/html": [
       "<div>\n",
       "<style scoped>\n",
       "    .dataframe tbody tr th:only-of-type {\n",
       "        vertical-align: middle;\n",
       "    }\n",
       "\n",
       "    .dataframe tbody tr th {\n",
       "        vertical-align: top;\n",
       "    }\n",
       "\n",
       "    .dataframe thead th {\n",
       "        text-align: right;\n",
       "    }\n",
       "</style>\n",
       "<table border=\"1\" class=\"dataframe\">\n",
       "  <thead>\n",
       "    <tr style=\"text-align: right;\">\n",
       "      <th></th>\n",
       "      <th>Item Number</th>\n",
       "      <th>Inventory Receive</th>\n",
       "      <th>Quantity</th>\n",
       "    </tr>\n",
       "  </thead>\n",
       "  <tbody>\n",
       "    <tr>\n",
       "      <th>0</th>\n",
       "      <td>064-01-1347</td>\n",
       "      <td>2023-07-10</td>\n",
       "      <td>5561</td>\n",
       "    </tr>\n",
       "    <tr>\n",
       "      <th>1</th>\n",
       "      <td>064-01-1347</td>\n",
       "      <td>2023-07-07</td>\n",
       "      <td>4561</td>\n",
       "    </tr>\n",
       "    <tr>\n",
       "      <th>2</th>\n",
       "      <td>064-01-1347</td>\n",
       "      <td>2023-07-09</td>\n",
       "      <td>7129</td>\n",
       "    </tr>\n",
       "    <tr>\n",
       "      <th>3</th>\n",
       "      <td>064-01-1347</td>\n",
       "      <td>2023-08-04</td>\n",
       "      <td>5361</td>\n",
       "    </tr>\n",
       "    <tr>\n",
       "      <th>4</th>\n",
       "      <td>064-01-1361</td>\n",
       "      <td>2023-07-10</td>\n",
       "      <td>6035</td>\n",
       "    </tr>\n",
       "  </tbody>\n",
       "</table>\n",
       "</div>"
      ],
      "text/plain": [
       "   Item Number Inventory Receive  Quantity\n",
       "0  064-01-1347        2023-07-10      5561\n",
       "1  064-01-1347        2023-07-07      4561\n",
       "2  064-01-1347        2023-07-09      7129\n",
       "3  064-01-1347        2023-08-04      5361\n",
       "4  064-01-1361        2023-07-10      6035"
      ]
     },
     "execution_count": 84,
     "metadata": {},
     "output_type": "execute_result"
    }
   ],
   "source": [
    "merge.drop('Total Item Qty', axis=1, inplace=True)\n",
    "merge.head()"
   ]
  },
  {
   "cell_type": "code",
   "execution_count": 86,
   "id": "08f27eed",
   "metadata": {},
   "outputs": [],
   "source": [
    "grouped_df = merge.groupby(['Item Number', 'Inventory Receive'])['Quantity'].sum().reset_index()"
   ]
  },
  {
   "cell_type": "code",
   "execution_count": 87,
   "id": "a40dc836",
   "metadata": {},
   "outputs": [],
   "source": [
    "final_df = grouped_df.pivot(index='Item Number', columns='Inventory Receive', values='Quantity')"
   ]
  },
  {
   "cell_type": "code",
   "execution_count": 88,
   "id": "ad38b78e",
   "metadata": {},
   "outputs": [],
   "source": [
    "final_df = final_df.fillna(0)"
   ]
  },
  {
   "cell_type": "code",
   "execution_count": 89,
   "id": "bacbd03a",
   "metadata": {},
   "outputs": [
    {
     "data": {
      "text/html": [
       "<div>\n",
       "<style scoped>\n",
       "    .dataframe tbody tr th:only-of-type {\n",
       "        vertical-align: middle;\n",
       "    }\n",
       "\n",
       "    .dataframe tbody tr th {\n",
       "        vertical-align: top;\n",
       "    }\n",
       "\n",
       "    .dataframe thead th {\n",
       "        text-align: right;\n",
       "    }\n",
       "</style>\n",
       "<table border=\"1\" class=\"dataframe\">\n",
       "  <thead>\n",
       "    <tr style=\"text-align: right;\">\n",
       "      <th>Inventory Receive</th>\n",
       "      <th>2023-07-07</th>\n",
       "      <th>2023-07-09</th>\n",
       "      <th>2023-07-10</th>\n",
       "      <th>2023-07-14</th>\n",
       "      <th>2023-07-21</th>\n",
       "      <th>2023-07-28</th>\n",
       "      <th>2023-08-04</th>\n",
       "      <th>2023-08-16</th>\n",
       "      <th>2023-08-18</th>\n",
       "      <th>2023-08-22</th>\n",
       "      <th>2023-08-25</th>\n",
       "      <th>2023-09-08</th>\n",
       "      <th>2023-09-29</th>\n",
       "      <th>2023-10-13</th>\n",
       "    </tr>\n",
       "    <tr>\n",
       "      <th>Item Number</th>\n",
       "      <th></th>\n",
       "      <th></th>\n",
       "      <th></th>\n",
       "      <th></th>\n",
       "      <th></th>\n",
       "      <th></th>\n",
       "      <th></th>\n",
       "      <th></th>\n",
       "      <th></th>\n",
       "      <th></th>\n",
       "      <th></th>\n",
       "      <th></th>\n",
       "      <th></th>\n",
       "      <th></th>\n",
       "    </tr>\n",
       "  </thead>\n",
       "  <tbody>\n",
       "    <tr>\n",
       "      <th>064-01-1346</th>\n",
       "      <td>4026.0</td>\n",
       "      <td>5418.0</td>\n",
       "      <td>4954.0</td>\n",
       "      <td>0.0</td>\n",
       "      <td>0.0</td>\n",
       "      <td>0.0</td>\n",
       "      <td>4354.0</td>\n",
       "      <td>3954.0</td>\n",
       "      <td>0.0</td>\n",
       "      <td>0.0</td>\n",
       "      <td>0.0</td>\n",
       "      <td>0.0</td>\n",
       "      <td>0.0</td>\n",
       "      <td>0.0</td>\n",
       "    </tr>\n",
       "    <tr>\n",
       "      <th>064-01-1347</th>\n",
       "      <td>4561.0</td>\n",
       "      <td>7129.0</td>\n",
       "      <td>5561.0</td>\n",
       "      <td>0.0</td>\n",
       "      <td>0.0</td>\n",
       "      <td>0.0</td>\n",
       "      <td>5361.0</td>\n",
       "      <td>0.0</td>\n",
       "      <td>0.0</td>\n",
       "      <td>0.0</td>\n",
       "      <td>0.0</td>\n",
       "      <td>0.0</td>\n",
       "      <td>0.0</td>\n",
       "      <td>0.0</td>\n",
       "    </tr>\n",
       "    <tr>\n",
       "      <th>064-01-1348</th>\n",
       "      <td>3816.0</td>\n",
       "      <td>4948.0</td>\n",
       "      <td>4672.0</td>\n",
       "      <td>0.0</td>\n",
       "      <td>0.0</td>\n",
       "      <td>0.0</td>\n",
       "      <td>4228.0</td>\n",
       "      <td>0.0</td>\n",
       "      <td>0.0</td>\n",
       "      <td>0.0</td>\n",
       "      <td>0.0</td>\n",
       "      <td>0.0</td>\n",
       "      <td>0.0</td>\n",
       "      <td>0.0</td>\n",
       "    </tr>\n",
       "    <tr>\n",
       "      <th>064-01-1349</th>\n",
       "      <td>3036.0</td>\n",
       "      <td>4956.0</td>\n",
       "      <td>3940.0</td>\n",
       "      <td>0.0</td>\n",
       "      <td>0.0</td>\n",
       "      <td>0.0</td>\n",
       "      <td>4660.0</td>\n",
       "      <td>0.0</td>\n",
       "      <td>0.0</td>\n",
       "      <td>0.0</td>\n",
       "      <td>0.0</td>\n",
       "      <td>0.0</td>\n",
       "      <td>0.0</td>\n",
       "      <td>0.0</td>\n",
       "    </tr>\n",
       "    <tr>\n",
       "      <th>064-01-1351</th>\n",
       "      <td>3336.0</td>\n",
       "      <td>3796.0</td>\n",
       "      <td>3136.0</td>\n",
       "      <td>0.0</td>\n",
       "      <td>0.0</td>\n",
       "      <td>0.0</td>\n",
       "      <td>0.0</td>\n",
       "      <td>0.0</td>\n",
       "      <td>0.0</td>\n",
       "      <td>0.0</td>\n",
       "      <td>0.0</td>\n",
       "      <td>0.0</td>\n",
       "      <td>0.0</td>\n",
       "      <td>0.0</td>\n",
       "    </tr>\n",
       "  </tbody>\n",
       "</table>\n",
       "</div>"
      ],
      "text/plain": [
       "Inventory Receive  2023-07-07  2023-07-09  2023-07-10  2023-07-14  2023-07-21  \\\n",
       "Item Number                                                                     \n",
       "064-01-1346            4026.0      5418.0      4954.0         0.0         0.0   \n",
       "064-01-1347            4561.0      7129.0      5561.0         0.0         0.0   \n",
       "064-01-1348            3816.0      4948.0      4672.0         0.0         0.0   \n",
       "064-01-1349            3036.0      4956.0      3940.0         0.0         0.0   \n",
       "064-01-1351            3336.0      3796.0      3136.0         0.0         0.0   \n",
       "\n",
       "Inventory Receive  2023-07-28  2023-08-04  2023-08-16  2023-08-18  2023-08-22  \\\n",
       "Item Number                                                                     \n",
       "064-01-1346               0.0      4354.0      3954.0         0.0         0.0   \n",
       "064-01-1347               0.0      5361.0         0.0         0.0         0.0   \n",
       "064-01-1348               0.0      4228.0         0.0         0.0         0.0   \n",
       "064-01-1349               0.0      4660.0         0.0         0.0         0.0   \n",
       "064-01-1351               0.0         0.0         0.0         0.0         0.0   \n",
       "\n",
       "Inventory Receive  2023-08-25  2023-09-08  2023-09-29  2023-10-13  \n",
       "Item Number                                                        \n",
       "064-01-1346               0.0         0.0         0.0         0.0  \n",
       "064-01-1347               0.0         0.0         0.0         0.0  \n",
       "064-01-1348               0.0         0.0         0.0         0.0  \n",
       "064-01-1349               0.0         0.0         0.0         0.0  \n",
       "064-01-1351               0.0         0.0         0.0         0.0  "
      ]
     },
     "execution_count": 89,
     "metadata": {},
     "output_type": "execute_result"
    }
   ],
   "source": [
    "final_df.head()"
   ]
  },
  {
   "cell_type": "code",
   "execution_count": 68,
   "id": "fc5a315d",
   "metadata": {},
   "outputs": [
    {
     "data": {
      "text/html": [
       "<div>\n",
       "<style scoped>\n",
       "    .dataframe tbody tr th:only-of-type {\n",
       "        vertical-align: middle;\n",
       "    }\n",
       "\n",
       "    .dataframe tbody tr th {\n",
       "        vertical-align: top;\n",
       "    }\n",
       "\n",
       "    .dataframe thead th {\n",
       "        text-align: right;\n",
       "    }\n",
       "</style>\n",
       "<table border=\"1\" class=\"dataframe\">\n",
       "  <thead>\n",
       "    <tr style=\"text-align: right;\">\n",
       "      <th></th>\n",
       "      <th>Item Number</th>\n",
       "      <th>Inventory</th>\n",
       "      <th>Inventory Receive</th>\n",
       "      <th>Total Item Qty</th>\n",
       "    </tr>\n",
       "  </thead>\n",
       "  <tbody>\n",
       "    <tr>\n",
       "      <th>0</th>\n",
       "      <td>064-01-1347</td>\n",
       "      <td>3561.0</td>\n",
       "      <td>2023-07-10</td>\n",
       "      <td>2000.0</td>\n",
       "    </tr>\n",
       "    <tr>\n",
       "      <th>1</th>\n",
       "      <td>064-01-1347</td>\n",
       "      <td>3561.0</td>\n",
       "      <td>2023-07-07</td>\n",
       "      <td>1000.0</td>\n",
       "    </tr>\n",
       "    <tr>\n",
       "      <th>2</th>\n",
       "      <td>064-01-1347</td>\n",
       "      <td>3561.0</td>\n",
       "      <td>2023-07-09</td>\n",
       "      <td>3568.0</td>\n",
       "    </tr>\n",
       "    <tr>\n",
       "      <th>3</th>\n",
       "      <td>064-01-1347</td>\n",
       "      <td>3561.0</td>\n",
       "      <td>2023-08-04</td>\n",
       "      <td>1800.0</td>\n",
       "    </tr>\n",
       "    <tr>\n",
       "      <th>4</th>\n",
       "      <td>064-01-1361</td>\n",
       "      <td>4035.0</td>\n",
       "      <td>2023-07-10</td>\n",
       "      <td>2000.0</td>\n",
       "    </tr>\n",
       "  </tbody>\n",
       "</table>\n",
       "</div>"
      ],
      "text/plain": [
       "   Item Number  Inventory Inventory Receive  Total Item Qty\n",
       "0  064-01-1347     3561.0        2023-07-10          2000.0\n",
       "1  064-01-1347     3561.0        2023-07-07          1000.0\n",
       "2  064-01-1347     3561.0        2023-07-09          3568.0\n",
       "3  064-01-1347     3561.0        2023-08-04          1800.0\n",
       "4  064-01-1361     4035.0        2023-07-10          2000.0"
      ]
     },
     "execution_count": 68,
     "metadata": {},
     "output_type": "execute_result"
    }
   ],
   "source": [
    "merged_df = pd.merge(DF1, DF2, on='Item Number', how='outer')\n",
    "merged_df.head()"
   ]
  },
  {
   "cell_type": "code",
   "execution_count": 69,
   "id": "d60bcaa8",
   "metadata": {},
   "outputs": [
    {
     "data": {
      "text/html": [
       "<div>\n",
       "<style scoped>\n",
       "    .dataframe tbody tr th:only-of-type {\n",
       "        vertical-align: middle;\n",
       "    }\n",
       "\n",
       "    .dataframe tbody tr th {\n",
       "        vertical-align: top;\n",
       "    }\n",
       "\n",
       "    .dataframe thead th {\n",
       "        text-align: right;\n",
       "    }\n",
       "</style>\n",
       "<table border=\"1\" class=\"dataframe\">\n",
       "  <thead>\n",
       "    <tr style=\"text-align: right;\">\n",
       "      <th></th>\n",
       "      <th>Item Number</th>\n",
       "      <th>Inventory</th>\n",
       "      <th>Inventory Receive</th>\n",
       "      <th>Total Item Qty</th>\n",
       "      <th>Quantity</th>\n",
       "    </tr>\n",
       "  </thead>\n",
       "  <tbody>\n",
       "    <tr>\n",
       "      <th>0</th>\n",
       "      <td>064-01-1347</td>\n",
       "      <td>3561.0</td>\n",
       "      <td>2023-07-10</td>\n",
       "      <td>2000.0</td>\n",
       "      <td>5561.0</td>\n",
       "    </tr>\n",
       "    <tr>\n",
       "      <th>1</th>\n",
       "      <td>064-01-1347</td>\n",
       "      <td>3561.0</td>\n",
       "      <td>2023-07-07</td>\n",
       "      <td>1000.0</td>\n",
       "      <td>4561.0</td>\n",
       "    </tr>\n",
       "    <tr>\n",
       "      <th>2</th>\n",
       "      <td>064-01-1347</td>\n",
       "      <td>3561.0</td>\n",
       "      <td>2023-07-09</td>\n",
       "      <td>3568.0</td>\n",
       "      <td>7129.0</td>\n",
       "    </tr>\n",
       "    <tr>\n",
       "      <th>3</th>\n",
       "      <td>064-01-1347</td>\n",
       "      <td>3561.0</td>\n",
       "      <td>2023-08-04</td>\n",
       "      <td>1800.0</td>\n",
       "      <td>5361.0</td>\n",
       "    </tr>\n",
       "    <tr>\n",
       "      <th>4</th>\n",
       "      <td>064-01-1361</td>\n",
       "      <td>4035.0</td>\n",
       "      <td>2023-07-10</td>\n",
       "      <td>2000.0</td>\n",
       "      <td>6035.0</td>\n",
       "    </tr>\n",
       "  </tbody>\n",
       "</table>\n",
       "</div>"
      ],
      "text/plain": [
       "   Item Number  Inventory Inventory Receive  Total Item Qty  Quantity\n",
       "0  064-01-1347     3561.0        2023-07-10          2000.0    5561.0\n",
       "1  064-01-1347     3561.0        2023-07-07          1000.0    4561.0\n",
       "2  064-01-1347     3561.0        2023-07-09          3568.0    7129.0\n",
       "3  064-01-1347     3561.0        2023-08-04          1800.0    5361.0\n",
       "4  064-01-1361     4035.0        2023-07-10          2000.0    6035.0"
      ]
     },
     "execution_count": 69,
     "metadata": {},
     "output_type": "execute_result"
    }
   ],
   "source": [
    "merged_df['Quantity']=merged_df['Inventory'] + merged_df['Total Item Qty']\n",
    "merged_df.head()"
   ]
  },
  {
   "cell_type": "code",
   "execution_count": 70,
   "id": "03f2a89b",
   "metadata": {},
   "outputs": [],
   "source": [
    "merged_df.drop('Inventory', axis=1, inplace=True)\n",
    "merged_df.drop('Total Item Qty', axis=1, inplace=True)"
   ]
  },
  {
   "cell_type": "code",
   "execution_count": 71,
   "id": "53d42ff4",
   "metadata": {},
   "outputs": [],
   "source": [
    "monthly_totals = merged_df.groupby(merged_df['Inventory Receive'].dt.to_period(\"M\")).sum()"
   ]
  },
  {
   "cell_type": "code",
   "execution_count": 72,
   "id": "abdfc6e9",
   "metadata": {},
   "outputs": [
    {
     "data": {
      "text/plain": [
       "<Figure size 1440x720 with 0 Axes>"
      ]
     },
     "metadata": {},
     "output_type": "display_data"
    },
    {
     "data": {
      "image/png": "[encoded data removed]",
      "text/plain": [
       "<Figure size 432x288 with 1 Axes>"
      ]
     },
     "metadata": {
      "needs_background": "light"
     },
     "output_type": "display_data"
    }
   ],
   "source": [
    "import matplotlib.pyplot as plt\n",
    "plt.figure(figsize=(20, 10))\n",
    "monthly_totals.plot(kind='bar', stacked=True)\n",
    "plt.title('Total Monthly Inventory Levels')\n",
    "plt.xlabel('Month')\n",
    "plt.ylabel('Total Inventory')\n",
    "plt.show()"
   ]
  },
  {
   "cell_type": "code",
   "execution_count": null,
   "id": "e845ddaf",
   "metadata": {},
   "outputs": [],
   "source": []
  }
 ],
 "metadata": {
  "kernelspec": {
   "display_name": "Python 3 (ipykernel)",
   "language": "python",
   "name": "python3"
  },
  "language_info": {
   "codemirror_mode": {
    "name": "ipython",
    "version": 3
   },
   "file_extension": ".py",
   "mimetype": "text/x-python",
   "name": "python",
   "nbconvert_exporter": "python",
   "pygments_lexer": "ipython3",
   "version": "3.9.12"
  }
 },
 "nbformat": 4,
 "nbformat_minor": 5
}
