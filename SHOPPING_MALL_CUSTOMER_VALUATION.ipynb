{
 "cells": [
  {
   "cell_type": "code",
   "execution_count": 3,
   "id": "3a6fd633",
   "metadata": {},
   "outputs": [],
   "source": [
    "# import the basic library\n",
    "import os\n",
    "import numpy as np\n",
    "import pandas as pd\n",
    "import matplotlib.pyplot as plt\n",
    "import seaborn as sns\n",
    "from sklearn.preprocessing import StandardScaler\n",
    "%matplotlib inline\n",
    "import warnings\n",
    "warnings.filterwarnings(\"ignore\")\n",
    "import chardet"
   ]
  },
  {
   "cell_type": "code",
   "execution_count": 5,
   "id": "0aea3252",
   "metadata": {},
   "outputs": [
    {
     "data": {
      "text/plain": [
       "'C:\\\\Users\\\\user\\\\Documents\\\\Learnbay\\\\Project\\\\Shopping Mall'"
      ]
     },
     "execution_count": 5,
     "metadata": {},
     "output_type": "execute_result"
    }
   ],
   "source": [
    "os.getcwd()"
   ]
  },
  {
   "cell_type": "code",
   "execution_count": 6,
   "id": "5c117ff7",
   "metadata": {},
   "outputs": [],
   "source": [
    "with open('shopping_mall.csv', 'rb') as f:\n",
    "    enc = chardet.detect(f.read())\n",
    "shop_df=pd.read_csv(\"shopping_mall.csv\",encoding = enc['encoding'])"
   ]
  },
  {
   "cell_type": "code",
   "execution_count": 7,
   "id": "c08a47fc",
   "metadata": {},
   "outputs": [
    {
     "data": {
      "text/html": [
       "<div>\n",
       "<style scoped>\n",
       "    .dataframe tbody tr th:only-of-type {\n",
       "        vertical-align: middle;\n",
       "    }\n",
       "\n",
       "    .dataframe tbody tr th {\n",
       "        vertical-align: top;\n",
       "    }\n",
       "\n",
       "    .dataframe thead th {\n",
       "        text-align: right;\n",
       "    }\n",
       "</style>\n",
       "<table border=\"1\" class=\"dataframe\">\n",
       "  <thead>\n",
       "    <tr style=\"text-align: right;\">\n",
       "      <th></th>\n",
       "      <th>InvoiceNo</th>\n",
       "      <th>StockCode</th>\n",
       "      <th>Description</th>\n",
       "      <th>Quantity</th>\n",
       "      <th>InvoiceDate</th>\n",
       "      <th>UnitPrice</th>\n",
       "      <th>CustomerID</th>\n",
       "      <th>Country</th>\n",
       "    </tr>\n",
       "  </thead>\n",
       "  <tbody>\n",
       "    <tr>\n",
       "      <th>0</th>\n",
       "      <td>536627</td>\n",
       "      <td>22783</td>\n",
       "      <td>SET 3 WICKER OVAL BASKETS W LIDS</td>\n",
       "      <td>1</td>\n",
       "      <td>12/2/2010 10:53</td>\n",
       "      <td>19.95</td>\n",
       "      <td>15658.0</td>\n",
       "      <td>United Kingdom</td>\n",
       "    </tr>\n",
       "    <tr>\n",
       "      <th>1</th>\n",
       "      <td>536627</td>\n",
       "      <td>22941</td>\n",
       "      <td>CHRISTMAS LIGHTS 10 REINDEER</td>\n",
       "      <td>2</td>\n",
       "      <td>12/2/2010 10:53</td>\n",
       "      <td>8.50</td>\n",
       "      <td>15658.0</td>\n",
       "      <td>United Kingdom</td>\n",
       "    </tr>\n",
       "    <tr>\n",
       "      <th>2</th>\n",
       "      <td>536627</td>\n",
       "      <td>21756</td>\n",
       "      <td>BATH BUILDING BLOCK WORD</td>\n",
       "      <td>3</td>\n",
       "      <td>12/2/2010 10:53</td>\n",
       "      <td>5.95</td>\n",
       "      <td>15658.0</td>\n",
       "      <td>United Kingdom</td>\n",
       "    </tr>\n",
       "    <tr>\n",
       "      <th>3</th>\n",
       "      <td>536627</td>\n",
       "      <td>22961</td>\n",
       "      <td>JAM MAKING SET PRINTED</td>\n",
       "      <td>12</td>\n",
       "      <td>12/2/2010 10:53</td>\n",
       "      <td>1.45</td>\n",
       "      <td>15658.0</td>\n",
       "      <td>United Kingdom</td>\n",
       "    </tr>\n",
       "    <tr>\n",
       "      <th>4</th>\n",
       "      <td>536627</td>\n",
       "      <td>22423</td>\n",
       "      <td>REGENCY CAKESTAND 3 TIER</td>\n",
       "      <td>4</td>\n",
       "      <td>12/2/2010 10:53</td>\n",
       "      <td>12.75</td>\n",
       "      <td>15658.0</td>\n",
       "      <td>United Kingdom</td>\n",
       "    </tr>\n",
       "  </tbody>\n",
       "</table>\n",
       "</div>"
      ],
      "text/plain": [
       "  InvoiceNo StockCode                       Description  Quantity  \\\n",
       "0    536627     22783  SET 3 WICKER OVAL BASKETS W LIDS         1   \n",
       "1    536627     22941      CHRISTMAS LIGHTS 10 REINDEER         2   \n",
       "2    536627     21756          BATH BUILDING BLOCK WORD         3   \n",
       "3    536627     22961            JAM MAKING SET PRINTED        12   \n",
       "4    536627     22423          REGENCY CAKESTAND 3 TIER         4   \n",
       "\n",
       "       InvoiceDate  UnitPrice  CustomerID         Country  \n",
       "0  12/2/2010 10:53      19.95     15658.0  United Kingdom  \n",
       "1  12/2/2010 10:53       8.50     15658.0  United Kingdom  \n",
       "2  12/2/2010 10:53       5.95     15658.0  United Kingdom  \n",
       "3  12/2/2010 10:53       1.45     15658.0  United Kingdom  \n",
       "4  12/2/2010 10:53      12.75     15658.0  United Kingdom  "
      ]
     },
     "execution_count": 7,
     "metadata": {},
     "output_type": "execute_result"
    }
   ],
   "source": [
    "shop_df.head()"
   ]
  },
  {
   "cell_type": "code",
   "execution_count": 8,
   "id": "b47a0f80",
   "metadata": {},
   "outputs": [
    {
     "name": "stdout",
     "output_type": "stream",
     "text": [
      "<class 'pandas.core.frame.DataFrame'>\n",
      "RangeIndex: 75120 entries, 0 to 75119\n",
      "Data columns (total 8 columns):\n",
      " #   Column       Non-Null Count  Dtype  \n",
      "---  ------       --------------  -----  \n",
      " 0   InvoiceNo    75120 non-null  object \n",
      " 1   StockCode    75120 non-null  object \n",
      " 2   Description  74915 non-null  object \n",
      " 3   Quantity     75120 non-null  int64  \n",
      " 4   InvoiceDate  75120 non-null  object \n",
      " 5   UnitPrice    75120 non-null  float64\n",
      " 6   CustomerID   48212 non-null  float64\n",
      " 7   Country      75120 non-null  object \n",
      "dtypes: float64(2), int64(1), object(5)\n",
      "memory usage: 4.6+ MB\n"
     ]
    }
   ],
   "source": [
    "shop_df.info()"
   ]
  },
  {
   "cell_type": "code",
   "execution_count": 11,
   "id": "57071a51",
   "metadata": {},
   "outputs": [
    {
     "data": {
      "text/plain": [
       "(75120, 8)"
      ]
     },
     "execution_count": 11,
     "metadata": {},
     "output_type": "execute_result"
    }
   ],
   "source": [
    "shop_df.shape"
   ]
  },
  {
   "cell_type": "code",
   "execution_count": 9,
   "id": "b3d9dd6a",
   "metadata": {},
   "outputs": [
    {
     "data": {
      "text/plain": [
       "InvoiceNo      3477\n",
       "StockCode      3160\n",
       "Description    3080\n",
       "Quantity        262\n",
       "InvoiceDate    3198\n",
       "UnitPrice       510\n",
       "CustomerID     1428\n",
       "Country          30\n",
       "dtype: int64"
      ]
     },
     "execution_count": 9,
     "metadata": {},
     "output_type": "execute_result"
    }
   ],
   "source": [
    "shop_df.nunique()"
   ]
  },
  {
   "cell_type": "code",
   "execution_count": 10,
   "id": "86b4867c",
   "metadata": {},
   "outputs": [],
   "source": [
    "# dropping the insignificance data\n",
    "shop_df1 = shop_df.drop(['StockCode', 'Description','Country'],axis = 1)"
   ]
  },
  {
   "cell_type": "code",
   "execution_count": 11,
   "id": "aa53bfc1",
   "metadata": {},
   "outputs": [
    {
     "data": {
      "text/html": [
       "<div>\n",
       "<style scoped>\n",
       "    .dataframe tbody tr th:only-of-type {\n",
       "        vertical-align: middle;\n",
       "    }\n",
       "\n",
       "    .dataframe tbody tr th {\n",
       "        vertical-align: top;\n",
       "    }\n",
       "\n",
       "    .dataframe thead th {\n",
       "        text-align: right;\n",
       "    }\n",
       "</style>\n",
       "<table border=\"1\" class=\"dataframe\">\n",
       "  <thead>\n",
       "    <tr style=\"text-align: right;\">\n",
       "      <th></th>\n",
       "      <th>InvoiceNo</th>\n",
       "      <th>Quantity</th>\n",
       "      <th>InvoiceDate</th>\n",
       "      <th>UnitPrice</th>\n",
       "      <th>CustomerID</th>\n",
       "    </tr>\n",
       "  </thead>\n",
       "  <tbody>\n",
       "    <tr>\n",
       "      <th>0</th>\n",
       "      <td>536627</td>\n",
       "      <td>1</td>\n",
       "      <td>12/2/2010 10:53</td>\n",
       "      <td>19.95</td>\n",
       "      <td>15658.0</td>\n",
       "    </tr>\n",
       "    <tr>\n",
       "      <th>1</th>\n",
       "      <td>536627</td>\n",
       "      <td>2</td>\n",
       "      <td>12/2/2010 10:53</td>\n",
       "      <td>8.50</td>\n",
       "      <td>15658.0</td>\n",
       "    </tr>\n",
       "    <tr>\n",
       "      <th>2</th>\n",
       "      <td>536627</td>\n",
       "      <td>3</td>\n",
       "      <td>12/2/2010 10:53</td>\n",
       "      <td>5.95</td>\n",
       "      <td>15658.0</td>\n",
       "    </tr>\n",
       "    <tr>\n",
       "      <th>3</th>\n",
       "      <td>536627</td>\n",
       "      <td>12</td>\n",
       "      <td>12/2/2010 10:53</td>\n",
       "      <td>1.45</td>\n",
       "      <td>15658.0</td>\n",
       "    </tr>\n",
       "    <tr>\n",
       "      <th>4</th>\n",
       "      <td>536627</td>\n",
       "      <td>4</td>\n",
       "      <td>12/2/2010 10:53</td>\n",
       "      <td>12.75</td>\n",
       "      <td>15658.0</td>\n",
       "    </tr>\n",
       "    <tr>\n",
       "      <th>...</th>\n",
       "      <td>...</td>\n",
       "      <td>...</td>\n",
       "      <td>...</td>\n",
       "      <td>...</td>\n",
       "      <td>...</td>\n",
       "    </tr>\n",
       "    <tr>\n",
       "      <th>75115</th>\n",
       "      <td>556023</td>\n",
       "      <td>1</td>\n",
       "      <td>6/8/2011 12:21</td>\n",
       "      <td>4.95</td>\n",
       "      <td>14527.0</td>\n",
       "    </tr>\n",
       "    <tr>\n",
       "      <th>75116</th>\n",
       "      <td>556023</td>\n",
       "      <td>4</td>\n",
       "      <td>6/8/2011 12:21</td>\n",
       "      <td>0.83</td>\n",
       "      <td>14527.0</td>\n",
       "    </tr>\n",
       "    <tr>\n",
       "      <th>75117</th>\n",
       "      <td>556023</td>\n",
       "      <td>4</td>\n",
       "      <td>6/8/2011 12:21</td>\n",
       "      <td>0.55</td>\n",
       "      <td>14527.0</td>\n",
       "    </tr>\n",
       "    <tr>\n",
       "      <th>75118</th>\n",
       "      <td>556023</td>\n",
       "      <td>4</td>\n",
       "      <td>6/8/2011 12:21</td>\n",
       "      <td>1.65</td>\n",
       "      <td>14527.0</td>\n",
       "    </tr>\n",
       "    <tr>\n",
       "      <th>75119</th>\n",
       "      <td>556023</td>\n",
       "      <td>2</td>\n",
       "      <td>6/8/2011 12:21</td>\n",
       "      <td>5.95</td>\n",
       "      <td>14527.0</td>\n",
       "    </tr>\n",
       "  </tbody>\n",
       "</table>\n",
       "<p>75120 rows × 5 columns</p>\n",
       "</div>"
      ],
      "text/plain": [
       "      InvoiceNo  Quantity      InvoiceDate  UnitPrice  CustomerID\n",
       "0        536627         1  12/2/2010 10:53      19.95     15658.0\n",
       "1        536627         2  12/2/2010 10:53       8.50     15658.0\n",
       "2        536627         3  12/2/2010 10:53       5.95     15658.0\n",
       "3        536627        12  12/2/2010 10:53       1.45     15658.0\n",
       "4        536627         4  12/2/2010 10:53      12.75     15658.0\n",
       "...         ...       ...              ...        ...         ...\n",
       "75115    556023         1   6/8/2011 12:21       4.95     14527.0\n",
       "75116    556023         4   6/8/2011 12:21       0.83     14527.0\n",
       "75117    556023         4   6/8/2011 12:21       0.55     14527.0\n",
       "75118    556023         4   6/8/2011 12:21       1.65     14527.0\n",
       "75119    556023         2   6/8/2011 12:21       5.95     14527.0\n",
       "\n",
       "[75120 rows x 5 columns]"
      ]
     },
     "execution_count": 11,
     "metadata": {},
     "output_type": "execute_result"
    }
   ],
   "source": [
    "shop_df1"
   ]
  },
  {
   "cell_type": "code",
   "execution_count": 12,
   "id": "f43205a7",
   "metadata": {},
   "outputs": [
    {
     "name": "stdout",
     "output_type": "stream",
     "text": [
      "-74215\n",
      "0.0\n"
     ]
    }
   ],
   "source": [
    "print(shop_df1[\"Quantity\"].min())\n",
    "print(shop_df1[\"UnitPrice\"].min())"
   ]
  },
  {
   "cell_type": "markdown",
   "id": "b5af3976",
   "metadata": {},
   "source": [
    "## These negative value in quantity and unit price indicate the return the shipment \n",
    "\n",
    "## In simple way ,the return the shipment  we can consider there is NO SALES DONE:- No Profit No loss .\n",
    " "
   ]
  },
  {
   "cell_type": "code",
   "execution_count": 13,
   "id": "adeaffba",
   "metadata": {},
   "outputs": [],
   "source": [
    "def handle_neg_values(num):\n",
    "    if num<0:\n",
    "        return 0\n",
    "    else:\n",
    "        return num"
   ]
  },
  {
   "cell_type": "code",
   "execution_count": 14,
   "id": "39f8c747",
   "metadata": {},
   "outputs": [],
   "source": [
    "shop_df1[\"Quantity\"]=[handle_neg_values(x) for x in shop_df1.Quantity]\n",
    "shop_df1[\"UnitPrice\"]=[handle_neg_values(x) for x in shop_df1.UnitPrice]"
   ]
  },
  {
   "cell_type": "code",
   "execution_count": 15,
   "id": "56573df3",
   "metadata": {},
   "outputs": [
    {
     "name": "stdout",
     "output_type": "stream",
     "text": [
      "0\n",
      "0.0\n"
     ]
    }
   ],
   "source": [
    "print(shop_df1[\"Quantity\"].min())\n",
    "print(shop_df1[\"UnitPrice\"].min())"
   ]
  },
  {
   "cell_type": "markdown",
   "id": "61ea994c",
   "metadata": {},
   "source": [
    "### Creating a new column of total amount"
   ]
  },
  {
   "cell_type": "code",
   "execution_count": 16,
   "id": "f74cb758",
   "metadata": {},
   "outputs": [],
   "source": [
    "shop_df1[\"Total\"]=shop_df1[\"Quantity\"]*shop_df1[\"UnitPrice\"]"
   ]
  },
  {
   "cell_type": "code",
   "execution_count": 17,
   "id": "d59e2290",
   "metadata": {},
   "outputs": [
    {
     "data": {
      "text/html": [
       "<div>\n",
       "<style scoped>\n",
       "    .dataframe tbody tr th:only-of-type {\n",
       "        vertical-align: middle;\n",
       "    }\n",
       "\n",
       "    .dataframe tbody tr th {\n",
       "        vertical-align: top;\n",
       "    }\n",
       "\n",
       "    .dataframe thead th {\n",
       "        text-align: right;\n",
       "    }\n",
       "</style>\n",
       "<table border=\"1\" class=\"dataframe\">\n",
       "  <thead>\n",
       "    <tr style=\"text-align: right;\">\n",
       "      <th></th>\n",
       "      <th>InvoiceNo</th>\n",
       "      <th>Quantity</th>\n",
       "      <th>InvoiceDate</th>\n",
       "      <th>UnitPrice</th>\n",
       "      <th>CustomerID</th>\n",
       "      <th>Total</th>\n",
       "    </tr>\n",
       "  </thead>\n",
       "  <tbody>\n",
       "    <tr>\n",
       "      <th>0</th>\n",
       "      <td>536627</td>\n",
       "      <td>1</td>\n",
       "      <td>12/2/2010 10:53</td>\n",
       "      <td>19.95</td>\n",
       "      <td>15658.0</td>\n",
       "      <td>19.95</td>\n",
       "    </tr>\n",
       "    <tr>\n",
       "      <th>1</th>\n",
       "      <td>536627</td>\n",
       "      <td>2</td>\n",
       "      <td>12/2/2010 10:53</td>\n",
       "      <td>8.50</td>\n",
       "      <td>15658.0</td>\n",
       "      <td>17.00</td>\n",
       "    </tr>\n",
       "    <tr>\n",
       "      <th>2</th>\n",
       "      <td>536627</td>\n",
       "      <td>3</td>\n",
       "      <td>12/2/2010 10:53</td>\n",
       "      <td>5.95</td>\n",
       "      <td>15658.0</td>\n",
       "      <td>17.85</td>\n",
       "    </tr>\n",
       "    <tr>\n",
       "      <th>3</th>\n",
       "      <td>536627</td>\n",
       "      <td>12</td>\n",
       "      <td>12/2/2010 10:53</td>\n",
       "      <td>1.45</td>\n",
       "      <td>15658.0</td>\n",
       "      <td>17.40</td>\n",
       "    </tr>\n",
       "    <tr>\n",
       "      <th>4</th>\n",
       "      <td>536627</td>\n",
       "      <td>4</td>\n",
       "      <td>12/2/2010 10:53</td>\n",
       "      <td>12.75</td>\n",
       "      <td>15658.0</td>\n",
       "      <td>51.00</td>\n",
       "    </tr>\n",
       "    <tr>\n",
       "      <th>...</th>\n",
       "      <td>...</td>\n",
       "      <td>...</td>\n",
       "      <td>...</td>\n",
       "      <td>...</td>\n",
       "      <td>...</td>\n",
       "      <td>...</td>\n",
       "    </tr>\n",
       "    <tr>\n",
       "      <th>75115</th>\n",
       "      <td>556023</td>\n",
       "      <td>1</td>\n",
       "      <td>6/8/2011 12:21</td>\n",
       "      <td>4.95</td>\n",
       "      <td>14527.0</td>\n",
       "      <td>4.95</td>\n",
       "    </tr>\n",
       "    <tr>\n",
       "      <th>75116</th>\n",
       "      <td>556023</td>\n",
       "      <td>4</td>\n",
       "      <td>6/8/2011 12:21</td>\n",
       "      <td>0.83</td>\n",
       "      <td>14527.0</td>\n",
       "      <td>3.32</td>\n",
       "    </tr>\n",
       "    <tr>\n",
       "      <th>75117</th>\n",
       "      <td>556023</td>\n",
       "      <td>4</td>\n",
       "      <td>6/8/2011 12:21</td>\n",
       "      <td>0.55</td>\n",
       "      <td>14527.0</td>\n",
       "      <td>2.20</td>\n",
       "    </tr>\n",
       "    <tr>\n",
       "      <th>75118</th>\n",
       "      <td>556023</td>\n",
       "      <td>4</td>\n",
       "      <td>6/8/2011 12:21</td>\n",
       "      <td>1.65</td>\n",
       "      <td>14527.0</td>\n",
       "      <td>6.60</td>\n",
       "    </tr>\n",
       "    <tr>\n",
       "      <th>75119</th>\n",
       "      <td>556023</td>\n",
       "      <td>2</td>\n",
       "      <td>6/8/2011 12:21</td>\n",
       "      <td>5.95</td>\n",
       "      <td>14527.0</td>\n",
       "      <td>11.90</td>\n",
       "    </tr>\n",
       "  </tbody>\n",
       "</table>\n",
       "<p>75120 rows × 6 columns</p>\n",
       "</div>"
      ],
      "text/plain": [
       "      InvoiceNo  Quantity      InvoiceDate  UnitPrice  CustomerID  Total\n",
       "0        536627         1  12/2/2010 10:53      19.95     15658.0  19.95\n",
       "1        536627         2  12/2/2010 10:53       8.50     15658.0  17.00\n",
       "2        536627         3  12/2/2010 10:53       5.95     15658.0  17.85\n",
       "3        536627        12  12/2/2010 10:53       1.45     15658.0  17.40\n",
       "4        536627         4  12/2/2010 10:53      12.75     15658.0  51.00\n",
       "...         ...       ...              ...        ...         ...    ...\n",
       "75115    556023         1   6/8/2011 12:21       4.95     14527.0   4.95\n",
       "75116    556023         4   6/8/2011 12:21       0.83     14527.0   3.32\n",
       "75117    556023         4   6/8/2011 12:21       0.55     14527.0   2.20\n",
       "75118    556023         4   6/8/2011 12:21       1.65     14527.0   6.60\n",
       "75119    556023         2   6/8/2011 12:21       5.95     14527.0  11.90\n",
       "\n",
       "[75120 rows x 6 columns]"
      ]
     },
     "execution_count": 17,
     "metadata": {},
     "output_type": "execute_result"
    }
   ],
   "source": [
    "shop_df1"
   ]
  },
  {
   "cell_type": "code",
   "execution_count": 18,
   "id": "980cf2d2",
   "metadata": {},
   "outputs": [
    {
     "name": "stdout",
     "output_type": "stream",
     "text": [
      "0\n",
      "0.0\n",
      "0.0\n"
     ]
    }
   ],
   "source": [
    "print(shop_df1[\"Quantity\"].min())\n",
    "print(shop_df1[\"UnitPrice\"].min())\n",
    "print(shop_df1[\"Total\"].min())"
   ]
  },
  {
   "cell_type": "code",
   "execution_count": 19,
   "id": "a6cbfbd7",
   "metadata": {},
   "outputs": [
    {
     "data": {
      "text/plain": [
       "<bound method DataFrame.info of       InvoiceNo  Quantity      InvoiceDate  UnitPrice  CustomerID  Total\n",
       "0        536627         1  12/2/2010 10:53      19.95     15658.0  19.95\n",
       "1        536627         2  12/2/2010 10:53       8.50     15658.0  17.00\n",
       "2        536627         3  12/2/2010 10:53       5.95     15658.0  17.85\n",
       "3        536627        12  12/2/2010 10:53       1.45     15658.0  17.40\n",
       "4        536627         4  12/2/2010 10:53      12.75     15658.0  51.00\n",
       "...         ...       ...              ...        ...         ...    ...\n",
       "75115    556023         1   6/8/2011 12:21       4.95     14527.0   4.95\n",
       "75116    556023         4   6/8/2011 12:21       0.83     14527.0   3.32\n",
       "75117    556023         4   6/8/2011 12:21       0.55     14527.0   2.20\n",
       "75118    556023         4   6/8/2011 12:21       1.65     14527.0   6.60\n",
       "75119    556023         2   6/8/2011 12:21       5.95     14527.0  11.90\n",
       "\n",
       "[75120 rows x 6 columns]>"
      ]
     },
     "execution_count": 19,
     "metadata": {},
     "output_type": "execute_result"
    }
   ],
   "source": [
    "shop_df1.info"
   ]
  },
  {
   "cell_type": "markdown",
   "id": "2cdeda95",
   "metadata": {},
   "source": [
    "#### The unit price and quantity are insignificance as we have total amount."
   ]
  },
  {
   "cell_type": "code",
   "execution_count": 20,
   "id": "4d75ec74",
   "metadata": {},
   "outputs": [
    {
     "name": "stdout",
     "output_type": "stream",
     "text": [
      "<class 'pandas.core.frame.DataFrame'>\n",
      "RangeIndex: 75120 entries, 0 to 75119\n",
      "Data columns (total 4 columns):\n",
      " #   Column       Non-Null Count  Dtype  \n",
      "---  ------       --------------  -----  \n",
      " 0   InvoiceNo    75120 non-null  object \n",
      " 1   InvoiceDate  75120 non-null  object \n",
      " 2   CustomerID   48212 non-null  float64\n",
      " 3   Total        75120 non-null  float64\n",
      "dtypes: float64(2), object(2)\n",
      "memory usage: 2.3+ MB\n"
     ]
    }
   ],
   "source": [
    "shop_df2 = shop_df1.drop(['Quantity', 'UnitPrice'],axis = 1)\n",
    "shop_df2.info()"
   ]
  },
  {
   "cell_type": "markdown",
   "id": "c8e1829e",
   "metadata": {},
   "source": [
    "#### There are some missing value in customer id ."
   ]
  },
  {
   "cell_type": "code",
   "execution_count": 21,
   "id": "a1fdbb58",
   "metadata": {},
   "outputs": [
    {
     "data": {
      "text/html": [
       "<div>\n",
       "<style scoped>\n",
       "    .dataframe tbody tr th:only-of-type {\n",
       "        vertical-align: middle;\n",
       "    }\n",
       "\n",
       "    .dataframe tbody tr th {\n",
       "        vertical-align: top;\n",
       "    }\n",
       "\n",
       "    .dataframe thead th {\n",
       "        text-align: right;\n",
       "    }\n",
       "</style>\n",
       "<table border=\"1\" class=\"dataframe\">\n",
       "  <thead>\n",
       "    <tr style=\"text-align: right;\">\n",
       "      <th></th>\n",
       "      <th>InvoiceNo</th>\n",
       "      <th>InvoiceDate</th>\n",
       "      <th>CustomerID</th>\n",
       "      <th>Total</th>\n",
       "    </tr>\n",
       "  </thead>\n",
       "  <tbody>\n",
       "    <tr>\n",
       "      <th>0</th>\n",
       "      <td>536627</td>\n",
       "      <td>12/2/2010 10:53</td>\n",
       "      <td>15658.0</td>\n",
       "      <td>19.95</td>\n",
       "    </tr>\n",
       "    <tr>\n",
       "      <th>1</th>\n",
       "      <td>536627</td>\n",
       "      <td>12/2/2010 10:53</td>\n",
       "      <td>15658.0</td>\n",
       "      <td>17.00</td>\n",
       "    </tr>\n",
       "    <tr>\n",
       "      <th>2</th>\n",
       "      <td>536627</td>\n",
       "      <td>12/2/2010 10:53</td>\n",
       "      <td>15658.0</td>\n",
       "      <td>17.85</td>\n",
       "    </tr>\n",
       "    <tr>\n",
       "      <th>3</th>\n",
       "      <td>536627</td>\n",
       "      <td>12/2/2010 10:53</td>\n",
       "      <td>15658.0</td>\n",
       "      <td>17.40</td>\n",
       "    </tr>\n",
       "    <tr>\n",
       "      <th>4</th>\n",
       "      <td>536627</td>\n",
       "      <td>12/2/2010 10:53</td>\n",
       "      <td>15658.0</td>\n",
       "      <td>51.00</td>\n",
       "    </tr>\n",
       "    <tr>\n",
       "      <th>...</th>\n",
       "      <td>...</td>\n",
       "      <td>...</td>\n",
       "      <td>...</td>\n",
       "      <td>...</td>\n",
       "    </tr>\n",
       "    <tr>\n",
       "      <th>75115</th>\n",
       "      <td>556023</td>\n",
       "      <td>6/8/2011 12:21</td>\n",
       "      <td>14527.0</td>\n",
       "      <td>4.95</td>\n",
       "    </tr>\n",
       "    <tr>\n",
       "      <th>75116</th>\n",
       "      <td>556023</td>\n",
       "      <td>6/8/2011 12:21</td>\n",
       "      <td>14527.0</td>\n",
       "      <td>3.32</td>\n",
       "    </tr>\n",
       "    <tr>\n",
       "      <th>75117</th>\n",
       "      <td>556023</td>\n",
       "      <td>6/8/2011 12:21</td>\n",
       "      <td>14527.0</td>\n",
       "      <td>2.20</td>\n",
       "    </tr>\n",
       "    <tr>\n",
       "      <th>75118</th>\n",
       "      <td>556023</td>\n",
       "      <td>6/8/2011 12:21</td>\n",
       "      <td>14527.0</td>\n",
       "      <td>6.60</td>\n",
       "    </tr>\n",
       "    <tr>\n",
       "      <th>75119</th>\n",
       "      <td>556023</td>\n",
       "      <td>6/8/2011 12:21</td>\n",
       "      <td>14527.0</td>\n",
       "      <td>11.90</td>\n",
       "    </tr>\n",
       "  </tbody>\n",
       "</table>\n",
       "<p>48212 rows × 4 columns</p>\n",
       "</div>"
      ],
      "text/plain": [
       "      InvoiceNo      InvoiceDate  CustomerID  Total\n",
       "0        536627  12/2/2010 10:53     15658.0  19.95\n",
       "1        536627  12/2/2010 10:53     15658.0  17.00\n",
       "2        536627  12/2/2010 10:53     15658.0  17.85\n",
       "3        536627  12/2/2010 10:53     15658.0  17.40\n",
       "4        536627  12/2/2010 10:53     15658.0  51.00\n",
       "...         ...              ...         ...    ...\n",
       "75115    556023   6/8/2011 12:21     14527.0   4.95\n",
       "75116    556023   6/8/2011 12:21     14527.0   3.32\n",
       "75117    556023   6/8/2011 12:21     14527.0   2.20\n",
       "75118    556023   6/8/2011 12:21     14527.0   6.60\n",
       "75119    556023   6/8/2011 12:21     14527.0  11.90\n",
       "\n",
       "[48212 rows x 4 columns]"
      ]
     },
     "execution_count": 21,
     "metadata": {},
     "output_type": "execute_result"
    }
   ],
   "source": [
    "shop_df3 = shop_df2.dropna(axis = 0, how ='any')\n",
    "shop_df3"
   ]
  },
  {
   "cell_type": "code",
   "execution_count": 22,
   "id": "b0e3430f",
   "metadata": {},
   "outputs": [
    {
     "name": "stdout",
     "output_type": "stream",
     "text": [
      "<class 'pandas.core.frame.DataFrame'>\n",
      "Int64Index: 48212 entries, 0 to 75119\n",
      "Data columns (total 4 columns):\n",
      " #   Column       Non-Null Count  Dtype  \n",
      "---  ------       --------------  -----  \n",
      " 0   InvoiceNo    48212 non-null  object \n",
      " 1   InvoiceDate  48212 non-null  object \n",
      " 2   CustomerID   48212 non-null  float64\n",
      " 3   Total        48212 non-null  float64\n",
      "dtypes: float64(2), object(2)\n",
      "memory usage: 1.8+ MB\n"
     ]
    }
   ],
   "source": [
    "shop_df3.info()"
   ]
  },
  {
   "cell_type": "markdown",
   "id": "58662686",
   "metadata": {},
   "source": [
    "### Converting invoice date to date month by importing calander"
   ]
  },
  {
   "cell_type": "code",
   "execution_count": 23,
   "id": "2ac59e99",
   "metadata": {},
   "outputs": [
    {
     "name": "stdout",
     "output_type": "stream",
     "text": [
      "<class 'pandas.core.frame.DataFrame'>\n",
      "Int64Index: 48212 entries, 0 to 75119\n",
      "Data columns (total 4 columns):\n",
      " #   Column       Non-Null Count  Dtype         \n",
      "---  ------       --------------  -----         \n",
      " 0   InvoiceNo    48212 non-null  object        \n",
      " 1   InvoiceDate  48212 non-null  datetime64[ns]\n",
      " 2   CustomerID   48212 non-null  float64       \n",
      " 3   Total        48212 non-null  float64       \n",
      "dtypes: datetime64[ns](1), float64(2), object(1)\n",
      "memory usage: 1.8+ MB\n"
     ]
    }
   ],
   "source": [
    "shop_df3[\"InvoiceDate\"]=pd.to_datetime(shop_df3[\"InvoiceDate\"])\n",
    "shop_df3.info()"
   ]
  },
  {
   "cell_type": "code",
   "execution_count": 24,
   "id": "6e4faf77",
   "metadata": {},
   "outputs": [
    {
     "data": {
      "text/html": [
       "<div>\n",
       "<style scoped>\n",
       "    .dataframe tbody tr th:only-of-type {\n",
       "        vertical-align: middle;\n",
       "    }\n",
       "\n",
       "    .dataframe tbody tr th {\n",
       "        vertical-align: top;\n",
       "    }\n",
       "\n",
       "    .dataframe thead th {\n",
       "        text-align: right;\n",
       "    }\n",
       "</style>\n",
       "<table border=\"1\" class=\"dataframe\">\n",
       "  <thead>\n",
       "    <tr style=\"text-align: right;\">\n",
       "      <th></th>\n",
       "      <th>InvoiceNo</th>\n",
       "      <th>InvoiceDate</th>\n",
       "      <th>CustomerID</th>\n",
       "      <th>Total</th>\n",
       "    </tr>\n",
       "  </thead>\n",
       "  <tbody>\n",
       "    <tr>\n",
       "      <th>0</th>\n",
       "      <td>536627</td>\n",
       "      <td>2010-12-02 10:53:00</td>\n",
       "      <td>15658.0</td>\n",
       "      <td>19.95</td>\n",
       "    </tr>\n",
       "    <tr>\n",
       "      <th>1</th>\n",
       "      <td>536627</td>\n",
       "      <td>2010-12-02 10:53:00</td>\n",
       "      <td>15658.0</td>\n",
       "      <td>17.00</td>\n",
       "    </tr>\n",
       "    <tr>\n",
       "      <th>2</th>\n",
       "      <td>536627</td>\n",
       "      <td>2010-12-02 10:53:00</td>\n",
       "      <td>15658.0</td>\n",
       "      <td>17.85</td>\n",
       "    </tr>\n",
       "    <tr>\n",
       "      <th>3</th>\n",
       "      <td>536627</td>\n",
       "      <td>2010-12-02 10:53:00</td>\n",
       "      <td>15658.0</td>\n",
       "      <td>17.40</td>\n",
       "    </tr>\n",
       "    <tr>\n",
       "      <th>4</th>\n",
       "      <td>536627</td>\n",
       "      <td>2010-12-02 10:53:00</td>\n",
       "      <td>15658.0</td>\n",
       "      <td>51.00</td>\n",
       "    </tr>\n",
       "    <tr>\n",
       "      <th>...</th>\n",
       "      <td>...</td>\n",
       "      <td>...</td>\n",
       "      <td>...</td>\n",
       "      <td>...</td>\n",
       "    </tr>\n",
       "    <tr>\n",
       "      <th>75115</th>\n",
       "      <td>556023</td>\n",
       "      <td>2011-06-08 12:21:00</td>\n",
       "      <td>14527.0</td>\n",
       "      <td>4.95</td>\n",
       "    </tr>\n",
       "    <tr>\n",
       "      <th>75116</th>\n",
       "      <td>556023</td>\n",
       "      <td>2011-06-08 12:21:00</td>\n",
       "      <td>14527.0</td>\n",
       "      <td>3.32</td>\n",
       "    </tr>\n",
       "    <tr>\n",
       "      <th>75117</th>\n",
       "      <td>556023</td>\n",
       "      <td>2011-06-08 12:21:00</td>\n",
       "      <td>14527.0</td>\n",
       "      <td>2.20</td>\n",
       "    </tr>\n",
       "    <tr>\n",
       "      <th>75118</th>\n",
       "      <td>556023</td>\n",
       "      <td>2011-06-08 12:21:00</td>\n",
       "      <td>14527.0</td>\n",
       "      <td>6.60</td>\n",
       "    </tr>\n",
       "    <tr>\n",
       "      <th>75119</th>\n",
       "      <td>556023</td>\n",
       "      <td>2011-06-08 12:21:00</td>\n",
       "      <td>14527.0</td>\n",
       "      <td>11.90</td>\n",
       "    </tr>\n",
       "  </tbody>\n",
       "</table>\n",
       "<p>48212 rows × 4 columns</p>\n",
       "</div>"
      ],
      "text/plain": [
       "      InvoiceNo         InvoiceDate  CustomerID  Total\n",
       "0        536627 2010-12-02 10:53:00     15658.0  19.95\n",
       "1        536627 2010-12-02 10:53:00     15658.0  17.00\n",
       "2        536627 2010-12-02 10:53:00     15658.0  17.85\n",
       "3        536627 2010-12-02 10:53:00     15658.0  17.40\n",
       "4        536627 2010-12-02 10:53:00     15658.0  51.00\n",
       "...         ...                 ...         ...    ...\n",
       "75115    556023 2011-06-08 12:21:00     14527.0   4.95\n",
       "75116    556023 2011-06-08 12:21:00     14527.0   3.32\n",
       "75117    556023 2011-06-08 12:21:00     14527.0   2.20\n",
       "75118    556023 2011-06-08 12:21:00     14527.0   6.60\n",
       "75119    556023 2011-06-08 12:21:00     14527.0  11.90\n",
       "\n",
       "[48212 rows x 4 columns]"
      ]
     },
     "execution_count": 24,
     "metadata": {},
     "output_type": "execute_result"
    }
   ],
   "source": [
    "shop_df3"
   ]
  },
  {
   "cell_type": "markdown",
   "id": "ea8ffe5d",
   "metadata": {},
   "source": [
    "## Now in the Dataframe the customer has purchased different products\n",
    "## With the same customer ID, same Invoice No., same time and total has given\n",
    "## We have to group the rows with duplicate Invoice no., Invoice date, customer ID and adding all the total by doing this no. of rows will be reduce.\n",
    "\n"
   ]
  },
  {
   "cell_type": "code",
   "execution_count": 25,
   "id": "c352851c",
   "metadata": {},
   "outputs": [
    {
     "data": {
      "text/html": [
       "<div>\n",
       "<style scoped>\n",
       "    .dataframe tbody tr th:only-of-type {\n",
       "        vertical-align: middle;\n",
       "    }\n",
       "\n",
       "    .dataframe tbody tr th {\n",
       "        vertical-align: top;\n",
       "    }\n",
       "\n",
       "    .dataframe thead th {\n",
       "        text-align: right;\n",
       "    }\n",
       "</style>\n",
       "<table border=\"1\" class=\"dataframe\">\n",
       "  <thead>\n",
       "    <tr style=\"text-align: right;\">\n",
       "      <th></th>\n",
       "      <th>InvoiceNo</th>\n",
       "      <th>Total</th>\n",
       "    </tr>\n",
       "  </thead>\n",
       "  <tbody>\n",
       "    <tr>\n",
       "      <th>0</th>\n",
       "      <td>536627</td>\n",
       "      <td>19.95</td>\n",
       "    </tr>\n",
       "    <tr>\n",
       "      <th>1</th>\n",
       "      <td>536627</td>\n",
       "      <td>17.00</td>\n",
       "    </tr>\n",
       "    <tr>\n",
       "      <th>2</th>\n",
       "      <td>536627</td>\n",
       "      <td>17.85</td>\n",
       "    </tr>\n",
       "    <tr>\n",
       "      <th>3</th>\n",
       "      <td>536627</td>\n",
       "      <td>17.40</td>\n",
       "    </tr>\n",
       "    <tr>\n",
       "      <th>4</th>\n",
       "      <td>536627</td>\n",
       "      <td>51.00</td>\n",
       "    </tr>\n",
       "  </tbody>\n",
       "</table>\n",
       "</div>"
      ],
      "text/plain": [
       "  InvoiceNo  Total\n",
       "0    536627  19.95\n",
       "1    536627  17.00\n",
       "2    536627  17.85\n",
       "3    536627  17.40\n",
       "4    536627  51.00"
      ]
     },
     "execution_count": 25,
     "metadata": {},
     "output_type": "execute_result"
    }
   ],
   "source": [
    "shop_df4=shop_df3.copy()\n",
    "shop_df4=shop_df3.drop([\"CustomerID\",\"InvoiceDate\"],axis=1)\n",
    "\n",
    "shop_df4.head()"
   ]
  },
  {
   "cell_type": "code",
   "execution_count": 26,
   "id": "e6b34558",
   "metadata": {},
   "outputs": [],
   "source": [
    "df5=shop_df4.groupby([\"InvoiceNo\"]).sum()\n",
    "pd.DataFrame(df5)\n",
    "df5_final=df5.reset_index()"
   ]
  },
  {
   "cell_type": "code",
   "execution_count": 27,
   "id": "077b7631",
   "metadata": {},
   "outputs": [
    {
     "data": {
      "text/html": [
       "<div>\n",
       "<style scoped>\n",
       "    .dataframe tbody tr th:only-of-type {\n",
       "        vertical-align: middle;\n",
       "    }\n",
       "\n",
       "    .dataframe tbody tr th {\n",
       "        vertical-align: top;\n",
       "    }\n",
       "\n",
       "    .dataframe thead th {\n",
       "        text-align: right;\n",
       "    }\n",
       "</style>\n",
       "<table border=\"1\" class=\"dataframe\">\n",
       "  <thead>\n",
       "    <tr style=\"text-align: right;\">\n",
       "      <th></th>\n",
       "      <th>InvoiceNo</th>\n",
       "      <th>Total</th>\n",
       "    </tr>\n",
       "  </thead>\n",
       "  <tbody>\n",
       "    <tr>\n",
       "      <th>0</th>\n",
       "      <td>536627</td>\n",
       "      <td>217.80</td>\n",
       "    </tr>\n",
       "    <tr>\n",
       "      <th>1</th>\n",
       "      <td>536628</td>\n",
       "      <td>230.56</td>\n",
       "    </tr>\n",
       "    <tr>\n",
       "      <th>2</th>\n",
       "      <td>536629</td>\n",
       "      <td>22.20</td>\n",
       "    </tr>\n",
       "    <tr>\n",
       "      <th>3</th>\n",
       "      <td>536630</td>\n",
       "      <td>244.46</td>\n",
       "    </tr>\n",
       "    <tr>\n",
       "      <th>4</th>\n",
       "      <td>536631</td>\n",
       "      <td>22.20</td>\n",
       "    </tr>\n",
       "  </tbody>\n",
       "</table>\n",
       "</div>"
      ],
      "text/plain": [
       "  InvoiceNo   Total\n",
       "0    536627  217.80\n",
       "1    536628  230.56\n",
       "2    536629   22.20\n",
       "3    536630  244.46\n",
       "4    536631   22.20"
      ]
     },
     "execution_count": 27,
     "metadata": {},
     "output_type": "execute_result"
    }
   ],
   "source": [
    "df5_final.head()"
   ]
  },
  {
   "cell_type": "code",
   "execution_count": 28,
   "id": "e74f159e",
   "metadata": {},
   "outputs": [
    {
     "name": "stdout",
     "output_type": "stream",
     "text": [
      "<class 'pandas.core.frame.DataFrame'>\n",
      "RangeIndex: 2940 entries, 0 to 2939\n",
      "Data columns (total 2 columns):\n",
      " #   Column     Non-Null Count  Dtype  \n",
      "---  ------     --------------  -----  \n",
      " 0   InvoiceNo  2940 non-null   object \n",
      " 1   Total      2940 non-null   float64\n",
      "dtypes: float64(1), object(1)\n",
      "memory usage: 46.1+ KB\n"
     ]
    }
   ],
   "source": [
    "df5_final.info()"
   ]
  },
  {
   "cell_type": "markdown",
   "id": "25f7c6b2",
   "metadata": {},
   "source": [
    "### from th df3 , we need to remove the rows having duplicate Invoice no. , after removing the duplicate we will have the correct no. of Rows to merge with df3_invoice_total "
   ]
  },
  {
   "cell_type": "code",
   "execution_count": 29,
   "id": "c730d77e",
   "metadata": {},
   "outputs": [
    {
     "data": {
      "text/html": [
       "<div>\n",
       "<style scoped>\n",
       "    .dataframe tbody tr th:only-of-type {\n",
       "        vertical-align: middle;\n",
       "    }\n",
       "\n",
       "    .dataframe tbody tr th {\n",
       "        vertical-align: top;\n",
       "    }\n",
       "\n",
       "    .dataframe thead th {\n",
       "        text-align: right;\n",
       "    }\n",
       "</style>\n",
       "<table border=\"1\" class=\"dataframe\">\n",
       "  <thead>\n",
       "    <tr style=\"text-align: right;\">\n",
       "      <th></th>\n",
       "      <th>InvoiceNo</th>\n",
       "      <th>InvoiceDate</th>\n",
       "      <th>CustomerID</th>\n",
       "    </tr>\n",
       "  </thead>\n",
       "  <tbody>\n",
       "    <tr>\n",
       "      <th>0</th>\n",
       "      <td>536627</td>\n",
       "      <td>2010-12-02 10:53:00</td>\n",
       "      <td>15658.0</td>\n",
       "    </tr>\n",
       "    <tr>\n",
       "      <th>1</th>\n",
       "      <td>536627</td>\n",
       "      <td>2010-12-02 10:53:00</td>\n",
       "      <td>15658.0</td>\n",
       "    </tr>\n",
       "    <tr>\n",
       "      <th>2</th>\n",
       "      <td>536627</td>\n",
       "      <td>2010-12-02 10:53:00</td>\n",
       "      <td>15658.0</td>\n",
       "    </tr>\n",
       "    <tr>\n",
       "      <th>3</th>\n",
       "      <td>536627</td>\n",
       "      <td>2010-12-02 10:53:00</td>\n",
       "      <td>15658.0</td>\n",
       "    </tr>\n",
       "    <tr>\n",
       "      <th>4</th>\n",
       "      <td>536627</td>\n",
       "      <td>2010-12-02 10:53:00</td>\n",
       "      <td>15658.0</td>\n",
       "    </tr>\n",
       "  </tbody>\n",
       "</table>\n",
       "</div>"
      ],
      "text/plain": [
       "  InvoiceNo         InvoiceDate  CustomerID\n",
       "0    536627 2010-12-02 10:53:00     15658.0\n",
       "1    536627 2010-12-02 10:53:00     15658.0\n",
       "2    536627 2010-12-02 10:53:00     15658.0\n",
       "3    536627 2010-12-02 10:53:00     15658.0\n",
       "4    536627 2010-12-02 10:53:00     15658.0"
      ]
     },
     "execution_count": 29,
     "metadata": {},
     "output_type": "execute_result"
    }
   ],
   "source": [
    "df3_final=shop_df3.drop([\"Total\"],axis=1)\n",
    "df3_final.head()"
   ]
  },
  {
   "cell_type": "code",
   "execution_count": 30,
   "id": "dbac2f78",
   "metadata": {},
   "outputs": [
    {
     "name": "stdout",
     "output_type": "stream",
     "text": [
      "<class 'pandas.core.frame.DataFrame'>\n",
      "Int64Index: 48212 entries, 0 to 75119\n",
      "Data columns (total 3 columns):\n",
      " #   Column       Non-Null Count  Dtype         \n",
      "---  ------       --------------  -----         \n",
      " 0   InvoiceNo    48212 non-null  object        \n",
      " 1   InvoiceDate  48212 non-null  datetime64[ns]\n",
      " 2   CustomerID   48212 non-null  float64       \n",
      "dtypes: datetime64[ns](1), float64(1), object(1)\n",
      "memory usage: 1.5+ MB\n"
     ]
    }
   ],
   "source": [
    "df3_final.info()"
   ]
  },
  {
   "cell_type": "code",
   "execution_count": 31,
   "id": "df1e5b50",
   "metadata": {},
   "outputs": [
    {
     "data": {
      "text/html": [
       "<div>\n",
       "<style scoped>\n",
       "    .dataframe tbody tr th:only-of-type {\n",
       "        vertical-align: middle;\n",
       "    }\n",
       "\n",
       "    .dataframe tbody tr th {\n",
       "        vertical-align: top;\n",
       "    }\n",
       "\n",
       "    .dataframe thead th {\n",
       "        text-align: right;\n",
       "    }\n",
       "</style>\n",
       "<table border=\"1\" class=\"dataframe\">\n",
       "  <thead>\n",
       "    <tr style=\"text-align: right;\">\n",
       "      <th></th>\n",
       "      <th>InvoiceNo</th>\n",
       "      <th>InvoiceDate</th>\n",
       "      <th>CustomerID</th>\n",
       "    </tr>\n",
       "  </thead>\n",
       "  <tbody>\n",
       "    <tr>\n",
       "      <th>0</th>\n",
       "      <td>536627</td>\n",
       "      <td>2010-12-02 10:53:00</td>\n",
       "      <td>15658.0</td>\n",
       "    </tr>\n",
       "    <tr>\n",
       "      <th>8</th>\n",
       "      <td>536628</td>\n",
       "      <td>2010-12-02 10:54:00</td>\n",
       "      <td>17850.0</td>\n",
       "    </tr>\n",
       "    <tr>\n",
       "      <th>24</th>\n",
       "      <td>536629</td>\n",
       "      <td>2010-12-02 10:55:00</td>\n",
       "      <td>17850.0</td>\n",
       "    </tr>\n",
       "    <tr>\n",
       "      <th>26</th>\n",
       "      <td>536630</td>\n",
       "      <td>2010-12-02 10:56:00</td>\n",
       "      <td>17850.0</td>\n",
       "    </tr>\n",
       "    <tr>\n",
       "      <th>42</th>\n",
       "      <td>536631</td>\n",
       "      <td>2010-12-02 10:58:00</td>\n",
       "      <td>17850.0</td>\n",
       "    </tr>\n",
       "  </tbody>\n",
       "</table>\n",
       "</div>"
      ],
      "text/plain": [
       "   InvoiceNo         InvoiceDate  CustomerID\n",
       "0     536627 2010-12-02 10:53:00     15658.0\n",
       "8     536628 2010-12-02 10:54:00     17850.0\n",
       "24    536629 2010-12-02 10:55:00     17850.0\n",
       "26    536630 2010-12-02 10:56:00     17850.0\n",
       "42    536631 2010-12-02 10:58:00     17850.0"
      ]
     },
     "execution_count": 31,
     "metadata": {},
     "output_type": "execute_result"
    }
   ],
   "source": [
    "df3_final1=df3_final.drop_duplicates(subset=['InvoiceNo'])\n",
    "df3_final1.head()"
   ]
  },
  {
   "cell_type": "code",
   "execution_count": 32,
   "id": "f521308b",
   "metadata": {},
   "outputs": [
    {
     "data": {
      "text/html": [
       "<div>\n",
       "<style scoped>\n",
       "    .dataframe tbody tr th:only-of-type {\n",
       "        vertical-align: middle;\n",
       "    }\n",
       "\n",
       "    .dataframe tbody tr th {\n",
       "        vertical-align: top;\n",
       "    }\n",
       "\n",
       "    .dataframe thead th {\n",
       "        text-align: right;\n",
       "    }\n",
       "</style>\n",
       "<table border=\"1\" class=\"dataframe\">\n",
       "  <thead>\n",
       "    <tr style=\"text-align: right;\">\n",
       "      <th></th>\n",
       "      <th>InvoiceNo</th>\n",
       "      <th>InvoiceDate</th>\n",
       "      <th>CustomerID</th>\n",
       "      <th>Total</th>\n",
       "    </tr>\n",
       "  </thead>\n",
       "  <tbody>\n",
       "    <tr>\n",
       "      <th>0</th>\n",
       "      <td>536627</td>\n",
       "      <td>2010-12-02 10:53:00</td>\n",
       "      <td>15658.0</td>\n",
       "      <td>217.80</td>\n",
       "    </tr>\n",
       "    <tr>\n",
       "      <th>1</th>\n",
       "      <td>536628</td>\n",
       "      <td>2010-12-02 10:54:00</td>\n",
       "      <td>17850.0</td>\n",
       "      <td>230.56</td>\n",
       "    </tr>\n",
       "    <tr>\n",
       "      <th>2</th>\n",
       "      <td>536629</td>\n",
       "      <td>2010-12-02 10:55:00</td>\n",
       "      <td>17850.0</td>\n",
       "      <td>22.20</td>\n",
       "    </tr>\n",
       "    <tr>\n",
       "      <th>3</th>\n",
       "      <td>536630</td>\n",
       "      <td>2010-12-02 10:56:00</td>\n",
       "      <td>17850.0</td>\n",
       "      <td>244.46</td>\n",
       "    </tr>\n",
       "    <tr>\n",
       "      <th>4</th>\n",
       "      <td>536631</td>\n",
       "      <td>2010-12-02 10:58:00</td>\n",
       "      <td>17850.0</td>\n",
       "      <td>22.20</td>\n",
       "    </tr>\n",
       "    <tr>\n",
       "      <th>...</th>\n",
       "      <td>...</td>\n",
       "      <td>...</td>\n",
       "      <td>...</td>\n",
       "      <td>...</td>\n",
       "    </tr>\n",
       "    <tr>\n",
       "      <th>2935</th>\n",
       "      <td>556019</td>\n",
       "      <td>2011-06-08 12:02:00</td>\n",
       "      <td>18092.0</td>\n",
       "      <td>221.40</td>\n",
       "    </tr>\n",
       "    <tr>\n",
       "      <th>2936</th>\n",
       "      <td>556020</td>\n",
       "      <td>2011-06-08 12:03:00</td>\n",
       "      <td>13571.0</td>\n",
       "      <td>114.71</td>\n",
       "    </tr>\n",
       "    <tr>\n",
       "      <th>2937</th>\n",
       "      <td>556021</td>\n",
       "      <td>2011-06-08 12:03:00</td>\n",
       "      <td>12921.0</td>\n",
       "      <td>477.68</td>\n",
       "    </tr>\n",
       "    <tr>\n",
       "      <th>2938</th>\n",
       "      <td>556022</td>\n",
       "      <td>2011-06-08 12:04:00</td>\n",
       "      <td>12921.0</td>\n",
       "      <td>79.20</td>\n",
       "    </tr>\n",
       "    <tr>\n",
       "      <th>2939</th>\n",
       "      <td>556023</td>\n",
       "      <td>2011-06-08 12:21:00</td>\n",
       "      <td>14527.0</td>\n",
       "      <td>209.28</td>\n",
       "    </tr>\n",
       "  </tbody>\n",
       "</table>\n",
       "<p>2940 rows × 4 columns</p>\n",
       "</div>"
      ],
      "text/plain": [
       "     InvoiceNo         InvoiceDate  CustomerID   Total\n",
       "0       536627 2010-12-02 10:53:00     15658.0  217.80\n",
       "1       536628 2010-12-02 10:54:00     17850.0  230.56\n",
       "2       536629 2010-12-02 10:55:00     17850.0   22.20\n",
       "3       536630 2010-12-02 10:56:00     17850.0  244.46\n",
       "4       536631 2010-12-02 10:58:00     17850.0   22.20\n",
       "...        ...                 ...         ...     ...\n",
       "2935    556019 2011-06-08 12:02:00     18092.0  221.40\n",
       "2936    556020 2011-06-08 12:03:00     13571.0  114.71\n",
       "2937    556021 2011-06-08 12:03:00     12921.0  477.68\n",
       "2938    556022 2011-06-08 12:04:00     12921.0   79.20\n",
       "2939    556023 2011-06-08 12:21:00     14527.0  209.28\n",
       "\n",
       "[2940 rows x 4 columns]"
      ]
     },
     "execution_count": 32,
     "metadata": {},
     "output_type": "execute_result"
    }
   ],
   "source": [
    "df_final=pd.merge(df3_final1, df5_final,how=\"left\",on=\"InvoiceNo\")\n",
    "df_final"
   ]
  },
  {
   "cell_type": "code",
   "execution_count": 33,
   "id": "854b7282",
   "metadata": {},
   "outputs": [
    {
     "name": "stdout",
     "output_type": "stream",
     "text": [
      "<class 'pandas.core.frame.DataFrame'>\n",
      "Int64Index: 2940 entries, 0 to 2939\n",
      "Data columns (total 4 columns):\n",
      " #   Column       Non-Null Count  Dtype         \n",
      "---  ------       --------------  -----         \n",
      " 0   InvoiceNo    2940 non-null   object        \n",
      " 1   InvoiceDate  2940 non-null   datetime64[ns]\n",
      " 2   CustomerID   2940 non-null   float64       \n",
      " 3   Total        2940 non-null   float64       \n",
      "dtypes: datetime64[ns](1), float64(2), object(1)\n",
      "memory usage: 114.8+ KB\n"
     ]
    }
   ],
   "source": [
    "df_final.info()"
   ]
  },
  {
   "cell_type": "markdown",
   "id": "33858cea",
   "metadata": {},
   "source": [
    "# CUSTOMER CLASSIFICATION PROCESS START"
   ]
  },
  {
   "cell_type": "markdown",
   "id": "673b533f",
   "metadata": {},
   "source": [
    "### We have to decide Recency_Frequency_Monetary Segmentation on the basis of df_final data base\n",
    "### RFM segmentation is a method to identify groups of customers and Valuation."
   ]
  },
  {
   "cell_type": "code",
   "execution_count": 34,
   "id": "74388be1",
   "metadata": {},
   "outputs": [],
   "source": [
    "# here we have to keep CustomerID a common indicator to find \n",
    "#(1)Latest  recent transaction by the CustomerID.:- RECENCY\n",
    "#(2)No. of Frequency visit by the CustomerID.:-FREQUENCY\n",
    "#(3)Total number of Monetary Purchase amount done in a duration by the CustomerID.:-MONETORY"
   ]
  },
  {
   "cell_type": "code",
   "execution_count": 35,
   "id": "69035541",
   "metadata": {},
   "outputs": [
    {
     "data": {
      "text/plain": [
       "Timestamp('2011-06-08 12:21:00')"
      ]
     },
     "execution_count": 35,
     "metadata": {},
     "output_type": "execute_result"
    }
   ],
   "source": [
    "max(df_final[\"InvoiceDate\"])"
   ]
  },
  {
   "cell_type": "code",
   "execution_count": 36,
   "id": "de28ebe7",
   "metadata": {},
   "outputs": [
    {
     "data": {
      "text/plain": [
       "Timestamp('2010-12-02 10:53:00')"
      ]
     },
     "execution_count": 36,
     "metadata": {},
     "output_type": "execute_result"
    }
   ],
   "source": [
    "min(df_final[\"InvoiceDate\"])\n"
   ]
  },
  {
   "cell_type": "markdown",
   "id": "7787fea8",
   "metadata": {},
   "source": [
    "# Latest_date\n",
    "#### Recent date=2011-06-08 12:21:00\n",
    "#### oldest date= 2010-12-02 10:53:00"
   ]
  },
  {
   "cell_type": "code",
   "execution_count": 37,
   "id": "365819f1",
   "metadata": {},
   "outputs": [],
   "source": [
    "import datetime as dt\n",
    "latest_date=dt.datetime(2011,6,10)"
   ]
  },
  {
   "cell_type": "code",
   "execution_count": 38,
   "id": "59cd64d2",
   "metadata": {},
   "outputs": [],
   "source": [
    "RFMScore=df_final.groupby(\"CustomerID\").agg({\"InvoiceDate\":lambda x:(latest_date-x.max()).days,\n",
    "                                            \"InvoiceNo\":lambda x:x.count(),\n",
    "                                            \"Total\":lambda x:x.sum()})"
   ]
  },
  {
   "cell_type": "code",
   "execution_count": 39,
   "id": "cd3d2482",
   "metadata": {},
   "outputs": [
    {
     "data": {
      "text/html": [
       "<div>\n",
       "<style scoped>\n",
       "    .dataframe tbody tr th:only-of-type {\n",
       "        vertical-align: middle;\n",
       "    }\n",
       "\n",
       "    .dataframe tbody tr th {\n",
       "        vertical-align: top;\n",
       "    }\n",
       "\n",
       "    .dataframe thead th {\n",
       "        text-align: right;\n",
       "    }\n",
       "</style>\n",
       "<table border=\"1\" class=\"dataframe\">\n",
       "  <thead>\n",
       "    <tr style=\"text-align: right;\">\n",
       "      <th></th>\n",
       "      <th>InvoiceDate</th>\n",
       "      <th>InvoiceNo</th>\n",
       "      <th>Total</th>\n",
       "    </tr>\n",
       "    <tr>\n",
       "      <th>CustomerID</th>\n",
       "      <th></th>\n",
       "      <th></th>\n",
       "      <th></th>\n",
       "    </tr>\n",
       "  </thead>\n",
       "  <tbody>\n",
       "    <tr>\n",
       "      <th>12346.0</th>\n",
       "      <td>142</td>\n",
       "      <td>2</td>\n",
       "      <td>77183.60</td>\n",
       "    </tr>\n",
       "    <tr>\n",
       "      <th>12347.0</th>\n",
       "      <td>134</td>\n",
       "      <td>1</td>\n",
       "      <td>475.39</td>\n",
       "    </tr>\n",
       "    <tr>\n",
       "      <th>12348.0</th>\n",
       "      <td>135</td>\n",
       "      <td>2</td>\n",
       "      <td>1120.24</td>\n",
       "    </tr>\n",
       "    <tr>\n",
       "      <th>12350.0</th>\n",
       "      <td>127</td>\n",
       "      <td>1</td>\n",
       "      <td>334.40</td>\n",
       "    </tr>\n",
       "    <tr>\n",
       "      <th>12352.0</th>\n",
       "      <td>100</td>\n",
       "      <td>5</td>\n",
       "      <td>1281.15</td>\n",
       "    </tr>\n",
       "  </tbody>\n",
       "</table>\n",
       "</div>"
      ],
      "text/plain": [
       "            InvoiceDate  InvoiceNo     Total\n",
       "CustomerID                                  \n",
       "12346.0             142          2  77183.60\n",
       "12347.0             134          1    475.39\n",
       "12348.0             135          2   1120.24\n",
       "12350.0             127          1    334.40\n",
       "12352.0             100          5   1281.15"
      ]
     },
     "execution_count": 39,
     "metadata": {},
     "output_type": "execute_result"
    }
   ],
   "source": [
    "RFMScore.head()"
   ]
  },
  {
   "cell_type": "code",
   "execution_count": 40,
   "id": "21ea0e2e",
   "metadata": {},
   "outputs": [],
   "source": [
    "RFMScore=RFMScore.reset_index()"
   ]
  },
  {
   "cell_type": "code",
   "execution_count": 41,
   "id": "876bec11",
   "metadata": {},
   "outputs": [
    {
     "data": {
      "text/html": [
       "<div>\n",
       "<style scoped>\n",
       "    .dataframe tbody tr th:only-of-type {\n",
       "        vertical-align: middle;\n",
       "    }\n",
       "\n",
       "    .dataframe tbody tr th {\n",
       "        vertical-align: top;\n",
       "    }\n",
       "\n",
       "    .dataframe thead th {\n",
       "        text-align: right;\n",
       "    }\n",
       "</style>\n",
       "<table border=\"1\" class=\"dataframe\">\n",
       "  <thead>\n",
       "    <tr style=\"text-align: right;\">\n",
       "      <th></th>\n",
       "      <th>CustomerID</th>\n",
       "      <th>InvoiceDate</th>\n",
       "      <th>InvoiceNo</th>\n",
       "      <th>Total</th>\n",
       "    </tr>\n",
       "  </thead>\n",
       "  <tbody>\n",
       "    <tr>\n",
       "      <th>0</th>\n",
       "      <td>12346.0</td>\n",
       "      <td>142</td>\n",
       "      <td>2</td>\n",
       "      <td>77183.60</td>\n",
       "    </tr>\n",
       "    <tr>\n",
       "      <th>1</th>\n",
       "      <td>12347.0</td>\n",
       "      <td>134</td>\n",
       "      <td>1</td>\n",
       "      <td>475.39</td>\n",
       "    </tr>\n",
       "    <tr>\n",
       "      <th>2</th>\n",
       "      <td>12348.0</td>\n",
       "      <td>135</td>\n",
       "      <td>2</td>\n",
       "      <td>1120.24</td>\n",
       "    </tr>\n",
       "    <tr>\n",
       "      <th>3</th>\n",
       "      <td>12350.0</td>\n",
       "      <td>127</td>\n",
       "      <td>1</td>\n",
       "      <td>334.40</td>\n",
       "    </tr>\n",
       "    <tr>\n",
       "      <th>4</th>\n",
       "      <td>12352.0</td>\n",
       "      <td>100</td>\n",
       "      <td>5</td>\n",
       "      <td>1281.15</td>\n",
       "    </tr>\n",
       "  </tbody>\n",
       "</table>\n",
       "</div>"
      ],
      "text/plain": [
       "   CustomerID  InvoiceDate  InvoiceNo     Total\n",
       "0     12346.0          142          2  77183.60\n",
       "1     12347.0          134          1    475.39\n",
       "2     12348.0          135          2   1120.24\n",
       "3     12350.0          127          1    334.40\n",
       "4     12352.0          100          5   1281.15"
      ]
     },
     "execution_count": 41,
     "metadata": {},
     "output_type": "execute_result"
    }
   ],
   "source": [
    "RFMScore.head()"
   ]
  },
  {
   "cell_type": "markdown",
   "id": "27e4c1af",
   "metadata": {},
   "source": [
    "## In the RMFSCORE\n",
    "#### Here we have placed the Recency under InvoiceDate heading column\n",
    "#### Frequency under the CustomerID\n",
    "#### Monetory under Total"
   ]
  },
  {
   "cell_type": "code",
   "execution_count": 42,
   "id": "e523a2bf",
   "metadata": {},
   "outputs": [
    {
     "data": {
      "text/html": [
       "<div>\n",
       "<style scoped>\n",
       "    .dataframe tbody tr th:only-of-type {\n",
       "        vertical-align: middle;\n",
       "    }\n",
       "\n",
       "    .dataframe tbody tr th {\n",
       "        vertical-align: top;\n",
       "    }\n",
       "\n",
       "    .dataframe thead th {\n",
       "        text-align: right;\n",
       "    }\n",
       "</style>\n",
       "<table border=\"1\" class=\"dataframe\">\n",
       "  <thead>\n",
       "    <tr style=\"text-align: right;\">\n",
       "      <th></th>\n",
       "      <th>CustomerID</th>\n",
       "      <th>Recency</th>\n",
       "      <th>Frequency</th>\n",
       "      <th>Monetary</th>\n",
       "    </tr>\n",
       "  </thead>\n",
       "  <tbody>\n",
       "    <tr>\n",
       "      <th>0</th>\n",
       "      <td>12346.0</td>\n",
       "      <td>142</td>\n",
       "      <td>2</td>\n",
       "      <td>77183.60</td>\n",
       "    </tr>\n",
       "    <tr>\n",
       "      <th>1</th>\n",
       "      <td>12347.0</td>\n",
       "      <td>134</td>\n",
       "      <td>1</td>\n",
       "      <td>475.39</td>\n",
       "    </tr>\n",
       "    <tr>\n",
       "      <th>2</th>\n",
       "      <td>12348.0</td>\n",
       "      <td>135</td>\n",
       "      <td>2</td>\n",
       "      <td>1120.24</td>\n",
       "    </tr>\n",
       "    <tr>\n",
       "      <th>3</th>\n",
       "      <td>12350.0</td>\n",
       "      <td>127</td>\n",
       "      <td>1</td>\n",
       "      <td>334.40</td>\n",
       "    </tr>\n",
       "    <tr>\n",
       "      <th>4</th>\n",
       "      <td>12352.0</td>\n",
       "      <td>100</td>\n",
       "      <td>5</td>\n",
       "      <td>1281.15</td>\n",
       "    </tr>\n",
       "  </tbody>\n",
       "</table>\n",
       "</div>"
      ],
      "text/plain": [
       "   CustomerID  Recency  Frequency  Monetary\n",
       "0     12346.0      142          2  77183.60\n",
       "1     12347.0      134          1    475.39\n",
       "2     12348.0      135          2   1120.24\n",
       "3     12350.0      127          1    334.40\n",
       "4     12352.0      100          5   1281.15"
      ]
     },
     "execution_count": 42,
     "metadata": {},
     "output_type": "execute_result"
    }
   ],
   "source": [
    "#RENAME THE NAME AS PER THE RMFSCORE\n",
    "RFMScore=RFMScore.rename(columns={\"InvoiceDate\":\"Recency\",\"InvoiceNo\":\"Frequency\",\"Total\":\"Monetary\"})\n",
    "RFMScore.head()"
   ]
  },
  {
   "cell_type": "code",
   "execution_count": 43,
   "id": "efe0e39c",
   "metadata": {},
   "outputs": [
    {
     "data": {
      "text/html": [
       "<div>\n",
       "<style scoped>\n",
       "    .dataframe tbody tr th:only-of-type {\n",
       "        vertical-align: middle;\n",
       "    }\n",
       "\n",
       "    .dataframe tbody tr th {\n",
       "        vertical-align: top;\n",
       "    }\n",
       "\n",
       "    .dataframe thead th {\n",
       "        text-align: right;\n",
       "    }\n",
       "</style>\n",
       "<table border=\"1\" class=\"dataframe\">\n",
       "  <thead>\n",
       "    <tr style=\"text-align: right;\">\n",
       "      <th></th>\n",
       "      <th>count</th>\n",
       "      <th>mean</th>\n",
       "      <th>std</th>\n",
       "      <th>min</th>\n",
       "      <th>25%</th>\n",
       "      <th>50%</th>\n",
       "      <th>75%</th>\n",
       "      <th>max</th>\n",
       "    </tr>\n",
       "  </thead>\n",
       "  <tbody>\n",
       "    <tr>\n",
       "      <th>CustomerID</th>\n",
       "      <td>1428.0</td>\n",
       "      <td>15240.514006</td>\n",
       "      <td>1755.954201</td>\n",
       "      <td>12346.0</td>\n",
       "      <td>13748.5000</td>\n",
       "      <td>15172.500</td>\n",
       "      <td>16781.25</td>\n",
       "      <td>18283.0</td>\n",
       "    </tr>\n",
       "    <tr>\n",
       "      <th>Recency</th>\n",
       "      <td>1428.0</td>\n",
       "      <td>116.467087</td>\n",
       "      <td>47.947906</td>\n",
       "      <td>1.0</td>\n",
       "      <td>112.0000</td>\n",
       "      <td>126.000</td>\n",
       "      <td>142.00</td>\n",
       "      <td>189.0</td>\n",
       "    </tr>\n",
       "    <tr>\n",
       "      <th>Frequency</th>\n",
       "      <td>1428.0</td>\n",
       "      <td>2.058824</td>\n",
       "      <td>2.259459</td>\n",
       "      <td>1.0</td>\n",
       "      <td>1.0000</td>\n",
       "      <td>1.000</td>\n",
       "      <td>2.00</td>\n",
       "      <td>31.0</td>\n",
       "    </tr>\n",
       "    <tr>\n",
       "      <th>Monetary</th>\n",
       "      <td>1428.0</td>\n",
       "      <td>829.521583</td>\n",
       "      <td>3219.424761</td>\n",
       "      <td>0.0</td>\n",
       "      <td>181.3375</td>\n",
       "      <td>340.605</td>\n",
       "      <td>717.03</td>\n",
       "      <td>77183.6</td>\n",
       "    </tr>\n",
       "  </tbody>\n",
       "</table>\n",
       "</div>"
      ],
      "text/plain": [
       "             count          mean          std      min         25%        50%  \\\n",
       "CustomerID  1428.0  15240.514006  1755.954201  12346.0  13748.5000  15172.500   \n",
       "Recency     1428.0    116.467087    47.947906      1.0    112.0000    126.000   \n",
       "Frequency   1428.0      2.058824     2.259459      1.0      1.0000      1.000   \n",
       "Monetary    1428.0    829.521583  3219.424761      0.0    181.3375    340.605   \n",
       "\n",
       "                 75%      max  \n",
       "CustomerID  16781.25  18283.0  \n",
       "Recency       142.00    189.0  \n",
       "Frequency       2.00     31.0  \n",
       "Monetary      717.03  77183.6  "
      ]
     },
     "execution_count": 43,
     "metadata": {},
     "output_type": "execute_result"
    }
   ],
   "source": [
    "RFMScore.describe().T"
   ]
  },
  {
   "cell_type": "code",
   "execution_count": 44,
   "id": "8a90a4c8",
   "metadata": {},
   "outputs": [],
   "source": [
    "# here it describe as below ... consider Recency , frequency and monetery .\n",
    "#lower the recency GOOD recent buyer.keep percentile as 25% as GOOD BUYER. \n",
    "#recently buying is considered as good potential customer.\n",
    "# Regarding frequency ...higher the frequency better the customer .keep percentile as 75% as GOOD BUYER\n",
    "#Regarding Monetary ...higher the frequency better the customer .keep percentile as 75% as GOOD BUYER"
   ]
  },
  {
   "cell_type": "code",
   "execution_count": 45,
   "id": "b9ca712e",
   "metadata": {},
   "outputs": [],
   "source": [
    "# split the data into four segments using quantile method\n",
    "quantiles=RFMScore.quantile(q=[0.25,0.50,0.75])"
   ]
  },
  {
   "cell_type": "code",
   "execution_count": 46,
   "id": "c868d249",
   "metadata": {},
   "outputs": [
    {
     "data": {
      "text/html": [
       "<div>\n",
       "<style scoped>\n",
       "    .dataframe tbody tr th:only-of-type {\n",
       "        vertical-align: middle;\n",
       "    }\n",
       "\n",
       "    .dataframe tbody tr th {\n",
       "        vertical-align: top;\n",
       "    }\n",
       "\n",
       "    .dataframe thead th {\n",
       "        text-align: right;\n",
       "    }\n",
       "</style>\n",
       "<table border=\"1\" class=\"dataframe\">\n",
       "  <thead>\n",
       "    <tr style=\"text-align: right;\">\n",
       "      <th></th>\n",
       "      <th>CustomerID</th>\n",
       "      <th>Recency</th>\n",
       "      <th>Frequency</th>\n",
       "      <th>Monetary</th>\n",
       "    </tr>\n",
       "  </thead>\n",
       "  <tbody>\n",
       "    <tr>\n",
       "      <th>0.25</th>\n",
       "      <td>13748.50</td>\n",
       "      <td>112.0</td>\n",
       "      <td>1.0</td>\n",
       "      <td>181.3375</td>\n",
       "    </tr>\n",
       "    <tr>\n",
       "      <th>0.50</th>\n",
       "      <td>15172.50</td>\n",
       "      <td>126.0</td>\n",
       "      <td>1.0</td>\n",
       "      <td>340.6050</td>\n",
       "    </tr>\n",
       "    <tr>\n",
       "      <th>0.75</th>\n",
       "      <td>16781.25</td>\n",
       "      <td>142.0</td>\n",
       "      <td>2.0</td>\n",
       "      <td>717.0300</td>\n",
       "    </tr>\n",
       "  </tbody>\n",
       "</table>\n",
       "</div>"
      ],
      "text/plain": [
       "      CustomerID  Recency  Frequency  Monetary\n",
       "0.25    13748.50    112.0        1.0  181.3375\n",
       "0.50    15172.50    126.0        1.0  340.6050\n",
       "0.75    16781.25    142.0        2.0  717.0300"
      ]
     },
     "execution_count": 46,
     "metadata": {},
     "output_type": "execute_result"
    }
   ],
   "source": [
    "quantiles"
   ]
  },
  {
   "cell_type": "code",
   "execution_count": 47,
   "id": "9c255650",
   "metadata": {},
   "outputs": [
    {
     "data": {
      "text/plain": [
       "<AxesSubplot:xlabel='Recency'>"
      ]
     },
     "execution_count": 47,
     "metadata": {},
     "output_type": "execute_result"
    },
    {
     "data": {
      "image/png": "[encoded data removed]",
      "text/plain": [
       "<Figure size 1080x1080 with 1 Axes>"
      ]
     },
     "metadata": {
      "needs_background": "light"
     },
     "output_type": "display_data"
    }
   ],
   "source": [
    "plt.figure(figsize=(15,15))\n",
    "sns.boxplot(RFMScore[\"Recency\"])"
   ]
  },
  {
   "cell_type": "code",
   "execution_count": 48,
   "id": "6e62f574",
   "metadata": {},
   "outputs": [
    {
     "data": {
      "text/plain": [
       "<AxesSubplot:xlabel='Frequency'>"
      ]
     },
     "execution_count": 48,
     "metadata": {},
     "output_type": "execute_result"
    },
    {
     "data": {
      "image/png": "[encoded data removed]",
      "text/plain": [
       "<Figure size 1080x1080 with 1 Axes>"
      ]
     },
     "metadata": {
      "needs_background": "light"
     },
     "output_type": "display_data"
    }
   ],
   "source": [
    "plt.figure(figsize=(15,15))\n",
    "sns.boxplot(RFMScore[\"Frequency\"])"
   ]
  },
  {
   "cell_type": "code",
   "execution_count": 49,
   "id": "15ccdb2b",
   "metadata": {},
   "outputs": [
    {
     "data": {
      "text/plain": [
       "<AxesSubplot:xlabel='Monetary'>"
      ]
     },
     "execution_count": 49,
     "metadata": {},
     "output_type": "execute_result"
    },
    {
     "data": {
      "image/png": "[encoded data removed]",
      "text/plain": [
       "<Figure size 1080x1080 with 1 Axes>"
      ]
     },
     "metadata": {
      "needs_background": "light"
     },
     "output_type": "display_data"
    }
   ],
   "source": [
    "plt.figure(figsize=(15,15))\n",
    "sns.boxplot(RFMScore[\"Monetary\"])"
   ]
  },
  {
   "cell_type": "code",
   "execution_count": 50,
   "id": "b90a2595",
   "metadata": {},
   "outputs": [
    {
     "data": {
      "text/plain": [
       "<AxesSubplot:ylabel='Monetary'>"
      ]
     },
     "execution_count": 50,
     "metadata": {},
     "output_type": "execute_result"
    },
    {
     "data": {
      "image/png": "[encoded data removed]",
      "text/plain": [
       "<Figure size 1080x1080 with 1 Axes>"
      ]
     },
     "metadata": {
      "needs_background": "light"
     },
     "output_type": "display_data"
    }
   ],
   "source": [
    "plt.figure(figsize=(15,15))\n",
    "sns.boxplot(y=\"Monetary\",data=RFMScore)"
   ]
  },
  {
   "cell_type": "code",
   "execution_count": 51,
   "id": "1c9e175e",
   "metadata": {},
   "outputs": [
    {
     "data": {
      "text/plain": [
       "14606.0    31\n",
       "15311.0    24\n",
       "13089.0    22\n",
       "14911.0    20\n",
       "17841.0    20\n",
       "           ..\n",
       "17602.0     1\n",
       "13502.0     1\n",
       "14784.0     1\n",
       "15938.0     1\n",
       "13571.0     1\n",
       "Name: CustomerID, Length: 1428, dtype: int64"
      ]
     },
     "execution_count": 51,
     "metadata": {},
     "output_type": "execute_result"
    }
   ],
   "source": [
    "df_final[\"CustomerID\"].value_counts()"
   ]
  },
  {
   "cell_type": "code",
   "execution_count": 52,
   "id": "6dbb6098",
   "metadata": {},
   "outputs": [
    {
     "data": {
      "text/html": [
       "<div>\n",
       "<style scoped>\n",
       "    .dataframe tbody tr th:only-of-type {\n",
       "        vertical-align: middle;\n",
       "    }\n",
       "\n",
       "    .dataframe tbody tr th {\n",
       "        vertical-align: top;\n",
       "    }\n",
       "\n",
       "    .dataframe thead th {\n",
       "        text-align: right;\n",
       "    }\n",
       "</style>\n",
       "<table border=\"1\" class=\"dataframe\">\n",
       "  <thead>\n",
       "    <tr style=\"text-align: right;\">\n",
       "      <th></th>\n",
       "      <th>CustomerID</th>\n",
       "      <th>Recency</th>\n",
       "      <th>Frequency</th>\n",
       "      <th>Monetary</th>\n",
       "    </tr>\n",
       "  </thead>\n",
       "  <tbody>\n",
       "    <tr>\n",
       "      <th>count</th>\n",
       "      <td>1428.000000</td>\n",
       "      <td>1428.000000</td>\n",
       "      <td>1428.000000</td>\n",
       "      <td>1428.000000</td>\n",
       "    </tr>\n",
       "    <tr>\n",
       "      <th>mean</th>\n",
       "      <td>15240.514006</td>\n",
       "      <td>116.467087</td>\n",
       "      <td>2.058824</td>\n",
       "      <td>829.521583</td>\n",
       "    </tr>\n",
       "    <tr>\n",
       "      <th>std</th>\n",
       "      <td>1755.954201</td>\n",
       "      <td>47.947906</td>\n",
       "      <td>2.259459</td>\n",
       "      <td>3219.424761</td>\n",
       "    </tr>\n",
       "    <tr>\n",
       "      <th>min</th>\n",
       "      <td>12346.000000</td>\n",
       "      <td>1.000000</td>\n",
       "      <td>1.000000</td>\n",
       "      <td>0.000000</td>\n",
       "    </tr>\n",
       "    <tr>\n",
       "      <th>25%</th>\n",
       "      <td>13748.500000</td>\n",
       "      <td>112.000000</td>\n",
       "      <td>1.000000</td>\n",
       "      <td>181.337500</td>\n",
       "    </tr>\n",
       "    <tr>\n",
       "      <th>50%</th>\n",
       "      <td>15172.500000</td>\n",
       "      <td>126.000000</td>\n",
       "      <td>1.000000</td>\n",
       "      <td>340.605000</td>\n",
       "    </tr>\n",
       "    <tr>\n",
       "      <th>75%</th>\n",
       "      <td>16781.250000</td>\n",
       "      <td>142.000000</td>\n",
       "      <td>2.000000</td>\n",
       "      <td>717.030000</td>\n",
       "    </tr>\n",
       "    <tr>\n",
       "      <th>max</th>\n",
       "      <td>18283.000000</td>\n",
       "      <td>189.000000</td>\n",
       "      <td>31.000000</td>\n",
       "      <td>77183.600000</td>\n",
       "    </tr>\n",
       "  </tbody>\n",
       "</table>\n",
       "</div>"
      ],
      "text/plain": [
       "         CustomerID      Recency    Frequency      Monetary\n",
       "count   1428.000000  1428.000000  1428.000000   1428.000000\n",
       "mean   15240.514006   116.467087     2.058824    829.521583\n",
       "std     1755.954201    47.947906     2.259459   3219.424761\n",
       "min    12346.000000     1.000000     1.000000      0.000000\n",
       "25%    13748.500000   112.000000     1.000000    181.337500\n",
       "50%    15172.500000   126.000000     1.000000    340.605000\n",
       "75%    16781.250000   142.000000     2.000000    717.030000\n",
       "max    18283.000000   189.000000    31.000000  77183.600000"
      ]
     },
     "execution_count": 52,
     "metadata": {},
     "output_type": "execute_result"
    }
   ],
   "source": [
    "RFMScore.describe()"
   ]
  },
  {
   "cell_type": "markdown",
   "id": "7c0dccac",
   "metadata": {},
   "source": [
    "### Our function to define R, F and M segment"
   ]
  },
  {
   "cell_type": "code",
   "execution_count": 53,
   "id": "7f6db9b7",
   "metadata": {},
   "outputs": [],
   "source": [
    "def Rscoring (x,p,d):\n",
    "    if x<=d[p][0.25]:# we can say lowest the recency highest the marks\n",
    "        return 4\n",
    "    elif x<=d[p][0.50]:\n",
    "        return 3\n",
    "    elif x<=d[p][0.75]:\n",
    "        return 2\n",
    "    else:\n",
    "        return 1\n",
    "\n",
    "    \n",
    "def Fscoring (x,p,d):# we can say highest the frequency  highest the marks\n",
    "    if x<=d[p][0.25]:\n",
    "        return 1\n",
    "    elif x<=d[p][0.50]:\n",
    "        return 2\n",
    "    elif x<=d[p][0.75]:\n",
    "        return 3\n",
    "    else:\n",
    "        return 4\n",
    "    \n",
    "def Mscoring (x,p,d):# we can say highest the monetary highest the marks\n",
    "    if x<=d[p][0.25]:\n",
    "        return 1\n",
    "    elif x<=d[p][0.50]:\n",
    "        return 2\n",
    "    elif x<=d[p][0.75]:\n",
    "        return 3\n",
    "    else:\n",
    "        return 4    "
   ]
  },
  {
   "cell_type": "code",
   "execution_count": 54,
   "id": "f6dd5af2",
   "metadata": {},
   "outputs": [
    {
     "data": {
      "text/plain": [
       "Index(['CustomerID', 'Recency', 'Frequency', 'Monetary'], dtype='object')"
      ]
     },
     "execution_count": 54,
     "metadata": {},
     "output_type": "execute_result"
    }
   ],
   "source": [
    "RFMScore.columns"
   ]
  },
  {
   "cell_type": "code",
   "execution_count": 55,
   "id": "06c19a89",
   "metadata": {},
   "outputs": [],
   "source": [
    "RFMScore[\"R\"]=RFMScore[\"Recency\"].apply(Rscoring,args=(\"Recency\",quantiles,))\n",
    "RFMScore[\"F\"]=RFMScore[\"Frequency\"].apply(Fscoring,args=(\"Frequency\",quantiles,))\n",
    "RFMScore[\"M\"]=RFMScore[\"Monetary\"].apply(Mscoring,args=(\"Monetary\",quantiles,))"
   ]
  },
  {
   "cell_type": "code",
   "execution_count": 56,
   "id": "07245871",
   "metadata": {},
   "outputs": [
    {
     "data": {
      "text/html": [
       "<div>\n",
       "<style scoped>\n",
       "    .dataframe tbody tr th:only-of-type {\n",
       "        vertical-align: middle;\n",
       "    }\n",
       "\n",
       "    .dataframe tbody tr th {\n",
       "        vertical-align: top;\n",
       "    }\n",
       "\n",
       "    .dataframe thead th {\n",
       "        text-align: right;\n",
       "    }\n",
       "</style>\n",
       "<table border=\"1\" class=\"dataframe\">\n",
       "  <thead>\n",
       "    <tr style=\"text-align: right;\">\n",
       "      <th></th>\n",
       "      <th>CustomerID</th>\n",
       "      <th>Recency</th>\n",
       "      <th>Frequency</th>\n",
       "      <th>Monetary</th>\n",
       "      <th>R</th>\n",
       "      <th>F</th>\n",
       "      <th>M</th>\n",
       "    </tr>\n",
       "  </thead>\n",
       "  <tbody>\n",
       "    <tr>\n",
       "      <th>0</th>\n",
       "      <td>12346.0</td>\n",
       "      <td>142</td>\n",
       "      <td>2</td>\n",
       "      <td>77183.60</td>\n",
       "      <td>2</td>\n",
       "      <td>3</td>\n",
       "      <td>4</td>\n",
       "    </tr>\n",
       "    <tr>\n",
       "      <th>1</th>\n",
       "      <td>12347.0</td>\n",
       "      <td>134</td>\n",
       "      <td>1</td>\n",
       "      <td>475.39</td>\n",
       "      <td>2</td>\n",
       "      <td>1</td>\n",
       "      <td>3</td>\n",
       "    </tr>\n",
       "    <tr>\n",
       "      <th>2</th>\n",
       "      <td>12348.0</td>\n",
       "      <td>135</td>\n",
       "      <td>2</td>\n",
       "      <td>1120.24</td>\n",
       "      <td>2</td>\n",
       "      <td>3</td>\n",
       "      <td>4</td>\n",
       "    </tr>\n",
       "    <tr>\n",
       "      <th>3</th>\n",
       "      <td>12350.0</td>\n",
       "      <td>127</td>\n",
       "      <td>1</td>\n",
       "      <td>334.40</td>\n",
       "      <td>2</td>\n",
       "      <td>1</td>\n",
       "      <td>2</td>\n",
       "    </tr>\n",
       "    <tr>\n",
       "      <th>4</th>\n",
       "      <td>12352.0</td>\n",
       "      <td>100</td>\n",
       "      <td>5</td>\n",
       "      <td>1281.15</td>\n",
       "      <td>4</td>\n",
       "      <td>4</td>\n",
       "      <td>4</td>\n",
       "    </tr>\n",
       "  </tbody>\n",
       "</table>\n",
       "</div>"
      ],
      "text/plain": [
       "   CustomerID  Recency  Frequency  Monetary  R  F  M\n",
       "0     12346.0      142          2  77183.60  2  3  4\n",
       "1     12347.0      134          1    475.39  2  1  3\n",
       "2     12348.0      135          2   1120.24  2  3  4\n",
       "3     12350.0      127          1    334.40  2  1  2\n",
       "4     12352.0      100          5   1281.15  4  4  4"
      ]
     },
     "execution_count": 56,
     "metadata": {},
     "output_type": "execute_result"
    }
   ],
   "source": [
    "RFMScore.head()"
   ]
  },
  {
   "cell_type": "markdown",
   "id": "8952db12",
   "metadata": {},
   "source": [
    "### We have made a basic screening of DATA, now we can apply our sale and  management skill"
   ]
  },
  {
   "cell_type": "markdown",
   "id": "5f82d748",
   "metadata": {},
   "source": [
    "### We can create a column which define a combind string RFM_ID to indentify the type of customer"
   ]
  },
  {
   "cell_type": "code",
   "execution_count": 57,
   "id": "53bb5066",
   "metadata": {},
   "outputs": [
    {
     "data": {
      "text/html": [
       "<div>\n",
       "<style scoped>\n",
       "    .dataframe tbody tr th:only-of-type {\n",
       "        vertical-align: middle;\n",
       "    }\n",
       "\n",
       "    .dataframe tbody tr th {\n",
       "        vertical-align: top;\n",
       "    }\n",
       "\n",
       "    .dataframe thead th {\n",
       "        text-align: right;\n",
       "    }\n",
       "</style>\n",
       "<table border=\"1\" class=\"dataframe\">\n",
       "  <thead>\n",
       "    <tr style=\"text-align: right;\">\n",
       "      <th></th>\n",
       "      <th>CustomerID</th>\n",
       "      <th>Recency</th>\n",
       "      <th>Frequency</th>\n",
       "      <th>Monetary</th>\n",
       "      <th>R</th>\n",
       "      <th>F</th>\n",
       "      <th>M</th>\n",
       "      <th>RFM_ID</th>\n",
       "    </tr>\n",
       "  </thead>\n",
       "  <tbody>\n",
       "    <tr>\n",
       "      <th>0</th>\n",
       "      <td>12346.0</td>\n",
       "      <td>142</td>\n",
       "      <td>2</td>\n",
       "      <td>77183.60</td>\n",
       "      <td>2</td>\n",
       "      <td>3</td>\n",
       "      <td>4</td>\n",
       "      <td>234</td>\n",
       "    </tr>\n",
       "    <tr>\n",
       "      <th>1</th>\n",
       "      <td>12347.0</td>\n",
       "      <td>134</td>\n",
       "      <td>1</td>\n",
       "      <td>475.39</td>\n",
       "      <td>2</td>\n",
       "      <td>1</td>\n",
       "      <td>3</td>\n",
       "      <td>213</td>\n",
       "    </tr>\n",
       "    <tr>\n",
       "      <th>2</th>\n",
       "      <td>12348.0</td>\n",
       "      <td>135</td>\n",
       "      <td>2</td>\n",
       "      <td>1120.24</td>\n",
       "      <td>2</td>\n",
       "      <td>3</td>\n",
       "      <td>4</td>\n",
       "      <td>234</td>\n",
       "    </tr>\n",
       "    <tr>\n",
       "      <th>3</th>\n",
       "      <td>12350.0</td>\n",
       "      <td>127</td>\n",
       "      <td>1</td>\n",
       "      <td>334.40</td>\n",
       "      <td>2</td>\n",
       "      <td>1</td>\n",
       "      <td>2</td>\n",
       "      <td>212</td>\n",
       "    </tr>\n",
       "    <tr>\n",
       "      <th>4</th>\n",
       "      <td>12352.0</td>\n",
       "      <td>100</td>\n",
       "      <td>5</td>\n",
       "      <td>1281.15</td>\n",
       "      <td>4</td>\n",
       "      <td>4</td>\n",
       "      <td>4</td>\n",
       "      <td>444</td>\n",
       "    </tr>\n",
       "  </tbody>\n",
       "</table>\n",
       "</div>"
      ],
      "text/plain": [
       "   CustomerID  Recency  Frequency  Monetary  R  F  M RFM_ID\n",
       "0     12346.0      142          2  77183.60  2  3  4    234\n",
       "1     12347.0      134          1    475.39  2  1  3    213\n",
       "2     12348.0      135          2   1120.24  2  3  4    234\n",
       "3     12350.0      127          1    334.40  2  1  2    212\n",
       "4     12352.0      100          5   1281.15  4  4  4    444"
      ]
     },
     "execution_count": 57,
     "metadata": {},
     "output_type": "execute_result"
    }
   ],
   "source": [
    "RFMScore[\"RFM_ID\"]=RFMScore.R.map(str)+RFMScore.F.map(str)+RFMScore.M.map(str)\n",
    "RFMScore.head()"
   ]
  },
  {
   "cell_type": "code",
   "execution_count": 58,
   "id": "1cc54a81",
   "metadata": {},
   "outputs": [
    {
     "data": {
      "text/html": [
       "<div>\n",
       "<style scoped>\n",
       "    .dataframe tbody tr th:only-of-type {\n",
       "        vertical-align: middle;\n",
       "    }\n",
       "\n",
       "    .dataframe tbody tr th {\n",
       "        vertical-align: top;\n",
       "    }\n",
       "\n",
       "    .dataframe thead th {\n",
       "        text-align: right;\n",
       "    }\n",
       "</style>\n",
       "<table border=\"1\" class=\"dataframe\">\n",
       "  <thead>\n",
       "    <tr style=\"text-align: right;\">\n",
       "      <th></th>\n",
       "      <th>CustomerID</th>\n",
       "      <th>Recency</th>\n",
       "      <th>Frequency</th>\n",
       "      <th>Monetary</th>\n",
       "      <th>R</th>\n",
       "      <th>F</th>\n",
       "      <th>M</th>\n",
       "      <th>RFM_ID</th>\n",
       "      <th>RFM_SUM</th>\n",
       "    </tr>\n",
       "  </thead>\n",
       "  <tbody>\n",
       "    <tr>\n",
       "      <th>0</th>\n",
       "      <td>12346.0</td>\n",
       "      <td>142</td>\n",
       "      <td>2</td>\n",
       "      <td>77183.60</td>\n",
       "      <td>2</td>\n",
       "      <td>3</td>\n",
       "      <td>4</td>\n",
       "      <td>234</td>\n",
       "      <td>9</td>\n",
       "    </tr>\n",
       "    <tr>\n",
       "      <th>1</th>\n",
       "      <td>12347.0</td>\n",
       "      <td>134</td>\n",
       "      <td>1</td>\n",
       "      <td>475.39</td>\n",
       "      <td>2</td>\n",
       "      <td>1</td>\n",
       "      <td>3</td>\n",
       "      <td>213</td>\n",
       "      <td>6</td>\n",
       "    </tr>\n",
       "    <tr>\n",
       "      <th>2</th>\n",
       "      <td>12348.0</td>\n",
       "      <td>135</td>\n",
       "      <td>2</td>\n",
       "      <td>1120.24</td>\n",
       "      <td>2</td>\n",
       "      <td>3</td>\n",
       "      <td>4</td>\n",
       "      <td>234</td>\n",
       "      <td>9</td>\n",
       "    </tr>\n",
       "    <tr>\n",
       "      <th>3</th>\n",
       "      <td>12350.0</td>\n",
       "      <td>127</td>\n",
       "      <td>1</td>\n",
       "      <td>334.40</td>\n",
       "      <td>2</td>\n",
       "      <td>1</td>\n",
       "      <td>2</td>\n",
       "      <td>212</td>\n",
       "      <td>5</td>\n",
       "    </tr>\n",
       "    <tr>\n",
       "      <th>4</th>\n",
       "      <td>12352.0</td>\n",
       "      <td>100</td>\n",
       "      <td>5</td>\n",
       "      <td>1281.15</td>\n",
       "      <td>4</td>\n",
       "      <td>4</td>\n",
       "      <td>4</td>\n",
       "      <td>444</td>\n",
       "      <td>12</td>\n",
       "    </tr>\n",
       "  </tbody>\n",
       "</table>\n",
       "</div>"
      ],
      "text/plain": [
       "   CustomerID  Recency  Frequency  Monetary  R  F  M RFM_ID  RFM_SUM\n",
       "0     12346.0      142          2  77183.60  2  3  4    234        9\n",
       "1     12347.0      134          1    475.39  2  1  3    213        6\n",
       "2     12348.0      135          2   1120.24  2  3  4    234        9\n",
       "3     12350.0      127          1    334.40  2  1  2    212        5\n",
       "4     12352.0      100          5   1281.15  4  4  4    444       12"
      ]
     },
     "execution_count": 58,
     "metadata": {},
     "output_type": "execute_result"
    }
   ],
   "source": [
    "RFMScore[\"RFM_SUM\"]=RFMScore[[\"R\",\"M\",\"F\"]].sum(axis=1)\n",
    "RFMScore.head()"
   ]
  },
  {
   "cell_type": "markdown",
   "id": "10598a65",
   "metadata": {},
   "source": [
    "### We can say higher the RMF_SUM score better the customer"
   ]
  },
  {
   "cell_type": "code",
   "execution_count": 59,
   "id": "9ef8db7b",
   "metadata": {},
   "outputs": [
    {
     "data": {
      "text/html": [
       "<div>\n",
       "<style scoped>\n",
       "    .dataframe tbody tr th:only-of-type {\n",
       "        vertical-align: middle;\n",
       "    }\n",
       "\n",
       "    .dataframe tbody tr th {\n",
       "        vertical-align: top;\n",
       "    }\n",
       "\n",
       "    .dataframe thead th {\n",
       "        text-align: right;\n",
       "    }\n",
       "</style>\n",
       "<table border=\"1\" class=\"dataframe\">\n",
       "  <thead>\n",
       "    <tr style=\"text-align: right;\">\n",
       "      <th></th>\n",
       "      <th>CustomerID</th>\n",
       "      <th>Recency</th>\n",
       "      <th>Frequency</th>\n",
       "      <th>Monetary</th>\n",
       "      <th>R</th>\n",
       "      <th>F</th>\n",
       "      <th>M</th>\n",
       "      <th>RFM_ID</th>\n",
       "      <th>RFM_SUM</th>\n",
       "      <th>RFM_Loyality</th>\n",
       "    </tr>\n",
       "  </thead>\n",
       "  <tbody>\n",
       "    <tr>\n",
       "      <th>0</th>\n",
       "      <td>12346.0</td>\n",
       "      <td>142</td>\n",
       "      <td>2</td>\n",
       "      <td>77183.60</td>\n",
       "      <td>2</td>\n",
       "      <td>3</td>\n",
       "      <td>4</td>\n",
       "      <td>234</td>\n",
       "      <td>9</td>\n",
       "      <td>Diamond</td>\n",
       "    </tr>\n",
       "    <tr>\n",
       "      <th>1</th>\n",
       "      <td>12347.0</td>\n",
       "      <td>134</td>\n",
       "      <td>1</td>\n",
       "      <td>475.39</td>\n",
       "      <td>2</td>\n",
       "      <td>1</td>\n",
       "      <td>3</td>\n",
       "      <td>213</td>\n",
       "      <td>6</td>\n",
       "      <td>Gold</td>\n",
       "    </tr>\n",
       "    <tr>\n",
       "      <th>2</th>\n",
       "      <td>12348.0</td>\n",
       "      <td>135</td>\n",
       "      <td>2</td>\n",
       "      <td>1120.24</td>\n",
       "      <td>2</td>\n",
       "      <td>3</td>\n",
       "      <td>4</td>\n",
       "      <td>234</td>\n",
       "      <td>9</td>\n",
       "      <td>Diamond</td>\n",
       "    </tr>\n",
       "    <tr>\n",
       "      <th>3</th>\n",
       "      <td>12350.0</td>\n",
       "      <td>127</td>\n",
       "      <td>1</td>\n",
       "      <td>334.40</td>\n",
       "      <td>2</td>\n",
       "      <td>1</td>\n",
       "      <td>2</td>\n",
       "      <td>212</td>\n",
       "      <td>5</td>\n",
       "      <td>Silver</td>\n",
       "    </tr>\n",
       "    <tr>\n",
       "      <th>4</th>\n",
       "      <td>12352.0</td>\n",
       "      <td>100</td>\n",
       "      <td>5</td>\n",
       "      <td>1281.15</td>\n",
       "      <td>4</td>\n",
       "      <td>4</td>\n",
       "      <td>4</td>\n",
       "      <td>444</td>\n",
       "      <td>12</td>\n",
       "      <td>Platinum</td>\n",
       "    </tr>\n",
       "  </tbody>\n",
       "</table>\n",
       "</div>"
      ],
      "text/plain": [
       "   CustomerID  Recency  Frequency  Monetary  R  F  M RFM_ID  RFM_SUM  \\\n",
       "0     12346.0      142          2  77183.60  2  3  4    234        9   \n",
       "1     12347.0      134          1    475.39  2  1  3    213        6   \n",
       "2     12348.0      135          2   1120.24  2  3  4    234        9   \n",
       "3     12350.0      127          1    334.40  2  1  2    212        5   \n",
       "4     12352.0      100          5   1281.15  4  4  4    444       12   \n",
       "\n",
       "  RFM_Loyality  \n",
       "0      Diamond  \n",
       "1         Gold  \n",
       "2      Diamond  \n",
       "3       Silver  \n",
       "4     Platinum  "
      ]
     },
     "execution_count": 59,
     "metadata": {},
     "output_type": "execute_result"
    }
   ],
   "source": [
    "# Assign Loyality level to each customer\n",
    "Loyality_level=[\"Silver\",\"Gold\",\"Diamond\",\"Platinum\"]# creating loyality levels\n",
    "score_cuts=pd.qcut(RFMScore.RFM_SUM,q=4,labels=Loyality_level)# qcut is a function work on quantile basis, \n",
    "#here we are applying quantile on RMS_SUM column. \n",
    "# we use q=4 means we need 4 no. of quatile , \n",
    "#q1=25% lowest RMS_SUM Value, q2,q3,q4 high , more higher value. applying labels as Loyality_level which 4 in number .\n",
    "RFMScore[\"RFM_Loyality\"]=score_cuts.values\n",
    "RFMScore.head()"
   ]
  },
  {
   "cell_type": "code",
   "execution_count": 60,
   "id": "d21e2f81",
   "metadata": {},
   "outputs": [
    {
     "data": {
      "text/html": [
       "<div>\n",
       "<style scoped>\n",
       "    .dataframe tbody tr th:only-of-type {\n",
       "        vertical-align: middle;\n",
       "    }\n",
       "\n",
       "    .dataframe tbody tr th {\n",
       "        vertical-align: top;\n",
       "    }\n",
       "\n",
       "    .dataframe thead th {\n",
       "        text-align: right;\n",
       "    }\n",
       "</style>\n",
       "<table border=\"1\" class=\"dataframe\">\n",
       "  <thead>\n",
       "    <tr style=\"text-align: right;\">\n",
       "      <th></th>\n",
       "      <th>CustomerID</th>\n",
       "      <th>Recency</th>\n",
       "      <th>Frequency</th>\n",
       "      <th>Monetary</th>\n",
       "      <th>R</th>\n",
       "      <th>F</th>\n",
       "      <th>M</th>\n",
       "      <th>RFM_ID</th>\n",
       "      <th>RFM_SUM</th>\n",
       "      <th>RFM_Loyality</th>\n",
       "    </tr>\n",
       "  </thead>\n",
       "  <tbody>\n",
       "    <tr>\n",
       "      <th>587</th>\n",
       "      <td>14646.0</td>\n",
       "      <td>108</td>\n",
       "      <td>10</td>\n",
       "      <td>54654.32</td>\n",
       "      <td>4</td>\n",
       "      <td>4</td>\n",
       "      <td>4</td>\n",
       "      <td>444</td>\n",
       "      <td>12</td>\n",
       "      <td>Platinum</td>\n",
       "    </tr>\n",
       "    <tr>\n",
       "      <th>1386</th>\n",
       "      <td>18102.0</td>\n",
       "      <td>2</td>\n",
       "      <td>7</td>\n",
       "      <td>48851.37</td>\n",
       "      <td>4</td>\n",
       "      <td>4</td>\n",
       "      <td>4</td>\n",
       "      <td>444</td>\n",
       "      <td>12</td>\n",
       "      <td>Platinum</td>\n",
       "    </tr>\n",
       "    <tr>\n",
       "      <th>449</th>\n",
       "      <td>14156.0</td>\n",
       "      <td>3</td>\n",
       "      <td>7</td>\n",
       "      <td>27449.12</td>\n",
       "      <td>4</td>\n",
       "      <td>4</td>\n",
       "      <td>4</td>\n",
       "      <td>444</td>\n",
       "      <td>12</td>\n",
       "      <td>Platinum</td>\n",
       "    </tr>\n",
       "    <tr>\n",
       "      <th>682</th>\n",
       "      <td>15061.0</td>\n",
       "      <td>1</td>\n",
       "      <td>18</td>\n",
       "      <td>13538.52</td>\n",
       "      <td>4</td>\n",
       "      <td>4</td>\n",
       "      <td>4</td>\n",
       "      <td>444</td>\n",
       "      <td>12</td>\n",
       "      <td>Platinum</td>\n",
       "    </tr>\n",
       "    <tr>\n",
       "      <th>749</th>\n",
       "      <td>15311.0</td>\n",
       "      <td>2</td>\n",
       "      <td>24</td>\n",
       "      <td>12611.05</td>\n",
       "      <td>4</td>\n",
       "      <td>4</td>\n",
       "      <td>4</td>\n",
       "      <td>444</td>\n",
       "      <td>12</td>\n",
       "      <td>Platinum</td>\n",
       "    </tr>\n",
       "  </tbody>\n",
       "</table>\n",
       "</div>"
      ],
      "text/plain": [
       "      CustomerID  Recency  Frequency  Monetary  R  F  M RFM_ID  RFM_SUM  \\\n",
       "587      14646.0      108         10  54654.32  4  4  4    444       12   \n",
       "1386     18102.0        2          7  48851.37  4  4  4    444       12   \n",
       "449      14156.0        3          7  27449.12  4  4  4    444       12   \n",
       "682      15061.0        1         18  13538.52  4  4  4    444       12   \n",
       "749      15311.0        2         24  12611.05  4  4  4    444       12   \n",
       "\n",
       "     RFM_Loyality  \n",
       "587      Platinum  \n",
       "1386     Platinum  \n",
       "449      Platinum  \n",
       "682      Platinum  \n",
       "749      Platinum  "
      ]
     },
     "execution_count": 60,
     "metadata": {},
     "output_type": "execute_result"
    }
   ],
   "source": [
    "# validate the data for RFM_ID = 444\n",
    "RFMScore[RFMScore[\"RFM_ID\"]==\"444\"].sort_values(\"Monetary\",ascending=False).head()"
   ]
  },
  {
   "cell_type": "markdown",
   "id": "89a9ba90",
   "metadata": {},
   "source": [
    "## For clustering purpose we only need  CustomerID\tRecency\tFrequency\tMonetary\n",
    "\n",
    "## So we create a new dataset"
   ]
  },
  {
   "cell_type": "code",
   "execution_count": 61,
   "id": "5d907f28",
   "metadata": {},
   "outputs": [
    {
     "data": {
      "text/html": [
       "<div>\n",
       "<style scoped>\n",
       "    .dataframe tbody tr th:only-of-type {\n",
       "        vertical-align: middle;\n",
       "    }\n",
       "\n",
       "    .dataframe tbody tr th {\n",
       "        vertical-align: top;\n",
       "    }\n",
       "\n",
       "    .dataframe thead th {\n",
       "        text-align: right;\n",
       "    }\n",
       "</style>\n",
       "<table border=\"1\" class=\"dataframe\">\n",
       "  <thead>\n",
       "    <tr style=\"text-align: right;\">\n",
       "      <th></th>\n",
       "      <th>CustomerID</th>\n",
       "      <th>Recency</th>\n",
       "      <th>Frequency</th>\n",
       "      <th>Monetary</th>\n",
       "    </tr>\n",
       "  </thead>\n",
       "  <tbody>\n",
       "    <tr>\n",
       "      <th>0</th>\n",
       "      <td>12346.0</td>\n",
       "      <td>142</td>\n",
       "      <td>2</td>\n",
       "      <td>77183.60</td>\n",
       "    </tr>\n",
       "    <tr>\n",
       "      <th>1</th>\n",
       "      <td>12347.0</td>\n",
       "      <td>134</td>\n",
       "      <td>1</td>\n",
       "      <td>475.39</td>\n",
       "    </tr>\n",
       "    <tr>\n",
       "      <th>2</th>\n",
       "      <td>12348.0</td>\n",
       "      <td>135</td>\n",
       "      <td>2</td>\n",
       "      <td>1120.24</td>\n",
       "    </tr>\n",
       "    <tr>\n",
       "      <th>3</th>\n",
       "      <td>12350.0</td>\n",
       "      <td>127</td>\n",
       "      <td>1</td>\n",
       "      <td>334.40</td>\n",
       "    </tr>\n",
       "    <tr>\n",
       "      <th>4</th>\n",
       "      <td>12352.0</td>\n",
       "      <td>100</td>\n",
       "      <td>5</td>\n",
       "      <td>1281.15</td>\n",
       "    </tr>\n",
       "    <tr>\n",
       "      <th>...</th>\n",
       "      <td>...</td>\n",
       "      <td>...</td>\n",
       "      <td>...</td>\n",
       "      <td>...</td>\n",
       "    </tr>\n",
       "    <tr>\n",
       "      <th>1423</th>\n",
       "      <td>18257.0</td>\n",
       "      <td>113</td>\n",
       "      <td>1</td>\n",
       "      <td>328.40</td>\n",
       "    </tr>\n",
       "    <tr>\n",
       "      <th>1424</th>\n",
       "      <td>18260.0</td>\n",
       "      <td>139</td>\n",
       "      <td>3</td>\n",
       "      <td>787.77</td>\n",
       "    </tr>\n",
       "    <tr>\n",
       "      <th>1425</th>\n",
       "      <td>18269.0</td>\n",
       "      <td>175</td>\n",
       "      <td>1</td>\n",
       "      <td>0.00</td>\n",
       "    </tr>\n",
       "    <tr>\n",
       "      <th>1426</th>\n",
       "      <td>18277.0</td>\n",
       "      <td>135</td>\n",
       "      <td>1</td>\n",
       "      <td>0.00</td>\n",
       "    </tr>\n",
       "    <tr>\n",
       "      <th>1427</th>\n",
       "      <td>18283.0</td>\n",
       "      <td>137</td>\n",
       "      <td>2</td>\n",
       "      <td>215.00</td>\n",
       "    </tr>\n",
       "  </tbody>\n",
       "</table>\n",
       "<p>1428 rows × 4 columns</p>\n",
       "</div>"
      ],
      "text/plain": [
       "      CustomerID  Recency  Frequency  Monetary\n",
       "0        12346.0      142          2  77183.60\n",
       "1        12347.0      134          1    475.39\n",
       "2        12348.0      135          2   1120.24\n",
       "3        12350.0      127          1    334.40\n",
       "4        12352.0      100          5   1281.15\n",
       "...          ...      ...        ...       ...\n",
       "1423     18257.0      113          1    328.40\n",
       "1424     18260.0      139          3    787.77\n",
       "1425     18269.0      175          1      0.00\n",
       "1426     18277.0      135          1      0.00\n",
       "1427     18283.0      137          2    215.00\n",
       "\n",
       "[1428 rows x 4 columns]"
      ]
     },
     "execution_count": 61,
     "metadata": {},
     "output_type": "execute_result"
    }
   ],
   "source": [
    "Newdata=RFMScore[[\"CustomerID\",\"Recency\",\"Frequency\",\"Monetary\"]]\n",
    "Newdata"
   ]
  },
  {
   "cell_type": "markdown",
   "id": "7f598fa6",
   "metadata": {},
   "source": [
    "## HERE IS OUTLIER SO WE USE STANDARIZATION APPROAC"
   ]
  },
  {
   "cell_type": "code",
   "execution_count": 62,
   "id": "bfc79590",
   "metadata": {},
   "outputs": [
    {
     "data": {
      "text/plain": [
       "array([[-1.64897696,  0.53270017, -0.02604346, 23.72499212],\n",
       "       [-1.64840727,  0.36579398, -0.46878225, -0.11003694],\n",
       "       [-1.64783758,  0.38665725, -0.02604346,  0.09033299],\n",
       "       ...,\n",
       "       [ 1.72529952,  1.22118823, -0.46878225, -0.25775169],\n",
       "       [ 1.72985705,  0.38665725, -0.46878225, -0.25775169],\n",
       "       [ 1.73327519,  0.4283838 , -0.02604346, -0.19094618]])"
      ]
     },
     "execution_count": 62,
     "metadata": {},
     "output_type": "execute_result"
    }
   ],
   "source": [
    "scaljob=StandardScaler()\n",
    "scaled_data=scaljob.fit_transform(Newdata)\n",
    "scaled_data"
   ]
  },
  {
   "cell_type": "markdown",
   "id": "3cf6e574",
   "metadata": {},
   "source": [
    "### We are getting the array value we sould change it in DATAFRAME "
   ]
  },
  {
   "cell_type": "code",
   "execution_count": 63,
   "id": "61c8b03f",
   "metadata": {},
   "outputs": [],
   "source": [
    "scaled_data_DF=pd.DataFrame(scaled_data,index=Newdata.index,columns=Newdata.columns)\n"
   ]
  },
  {
   "cell_type": "code",
   "execution_count": 64,
   "id": "f3c74016",
   "metadata": {},
   "outputs": [
    {
     "data": {
      "text/html": [
       "<div>\n",
       "<style scoped>\n",
       "    .dataframe tbody tr th:only-of-type {\n",
       "        vertical-align: middle;\n",
       "    }\n",
       "\n",
       "    .dataframe tbody tr th {\n",
       "        vertical-align: top;\n",
       "    }\n",
       "\n",
       "    .dataframe thead th {\n",
       "        text-align: right;\n",
       "    }\n",
       "</style>\n",
       "<table border=\"1\" class=\"dataframe\">\n",
       "  <thead>\n",
       "    <tr style=\"text-align: right;\">\n",
       "      <th></th>\n",
       "      <th>CustomerID</th>\n",
       "      <th>Recency</th>\n",
       "      <th>Frequency</th>\n",
       "      <th>Monetary</th>\n",
       "    </tr>\n",
       "  </thead>\n",
       "  <tbody>\n",
       "    <tr>\n",
       "      <th>0</th>\n",
       "      <td>-1.648977</td>\n",
       "      <td>0.532700</td>\n",
       "      <td>-0.026043</td>\n",
       "      <td>23.724992</td>\n",
       "    </tr>\n",
       "    <tr>\n",
       "      <th>1</th>\n",
       "      <td>-1.648407</td>\n",
       "      <td>0.365794</td>\n",
       "      <td>-0.468782</td>\n",
       "      <td>-0.110037</td>\n",
       "    </tr>\n",
       "    <tr>\n",
       "      <th>2</th>\n",
       "      <td>-1.647838</td>\n",
       "      <td>0.386657</td>\n",
       "      <td>-0.026043</td>\n",
       "      <td>0.090333</td>\n",
       "    </tr>\n",
       "    <tr>\n",
       "      <th>3</th>\n",
       "      <td>-1.646698</td>\n",
       "      <td>0.219751</td>\n",
       "      <td>-0.468782</td>\n",
       "      <td>-0.153846</td>\n",
       "    </tr>\n",
       "    <tr>\n",
       "      <th>4</th>\n",
       "      <td>-1.645559</td>\n",
       "      <td>-0.343557</td>\n",
       "      <td>1.302173</td>\n",
       "      <td>0.140331</td>\n",
       "    </tr>\n",
       "    <tr>\n",
       "      <th>...</th>\n",
       "      <td>...</td>\n",
       "      <td>...</td>\n",
       "      <td>...</td>\n",
       "      <td>...</td>\n",
       "    </tr>\n",
       "    <tr>\n",
       "      <th>1423</th>\n",
       "      <td>1.718463</td>\n",
       "      <td>-0.072335</td>\n",
       "      <td>-0.468782</td>\n",
       "      <td>-0.155710</td>\n",
       "    </tr>\n",
       "    <tr>\n",
       "      <th>1424</th>\n",
       "      <td>1.720172</td>\n",
       "      <td>0.470110</td>\n",
       "      <td>0.416695</td>\n",
       "      <td>-0.012973</td>\n",
       "    </tr>\n",
       "    <tr>\n",
       "      <th>1425</th>\n",
       "      <td>1.725300</td>\n",
       "      <td>1.221188</td>\n",
       "      <td>-0.468782</td>\n",
       "      <td>-0.257752</td>\n",
       "    </tr>\n",
       "    <tr>\n",
       "      <th>1426</th>\n",
       "      <td>1.729857</td>\n",
       "      <td>0.386657</td>\n",
       "      <td>-0.468782</td>\n",
       "      <td>-0.257752</td>\n",
       "    </tr>\n",
       "    <tr>\n",
       "      <th>1427</th>\n",
       "      <td>1.733275</td>\n",
       "      <td>0.428384</td>\n",
       "      <td>-0.026043</td>\n",
       "      <td>-0.190946</td>\n",
       "    </tr>\n",
       "  </tbody>\n",
       "</table>\n",
       "<p>1428 rows × 4 columns</p>\n",
       "</div>"
      ],
      "text/plain": [
       "      CustomerID   Recency  Frequency   Monetary\n",
       "0      -1.648977  0.532700  -0.026043  23.724992\n",
       "1      -1.648407  0.365794  -0.468782  -0.110037\n",
       "2      -1.647838  0.386657  -0.026043   0.090333\n",
       "3      -1.646698  0.219751  -0.468782  -0.153846\n",
       "4      -1.645559 -0.343557   1.302173   0.140331\n",
       "...          ...       ...        ...        ...\n",
       "1423    1.718463 -0.072335  -0.468782  -0.155710\n",
       "1424    1.720172  0.470110   0.416695  -0.012973\n",
       "1425    1.725300  1.221188  -0.468782  -0.257752\n",
       "1426    1.729857  0.386657  -0.468782  -0.257752\n",
       "1427    1.733275  0.428384  -0.026043  -0.190946\n",
       "\n",
       "[1428 rows x 4 columns]"
      ]
     },
     "execution_count": 64,
     "metadata": {},
     "output_type": "execute_result"
    }
   ],
   "source": [
    "scaled_data_DF"
   ]
  },
  {
   "cell_type": "markdown",
   "id": "362abc38",
   "metadata": {},
   "source": [
    "# BUILD CLUSTERING MODEL"
   ]
  },
  {
   "cell_type": "code",
   "execution_count": 65,
   "id": "d37cecc6",
   "metadata": {},
   "outputs": [],
   "source": [
    "from sklearn.cluster import KMeans\n",
    "sum_of_sq_dist={}# just creating one variable of blank\n",
    "for k in range(1,15):# giving by default 1 to 15 clusters\n",
    "    #we can assign n_clusters=k , iteration becoz we use elbow method to find perfect k value.\n",
    "    km=KMeans(n_clusters=k,init=\"k-means++\",max_iter=300)"
   ]
  },
  {
   "cell_type": "code",
   "execution_count": 66,
   "id": "aecf9634",
   "metadata": {},
   "outputs": [],
   "source": [
    "km=km.fit(scaled_data_DF)\n",
    "sum_of_sq_dist[k]=km.inertia_"
   ]
  },
  {
   "cell_type": "markdown",
   "id": "33f3bcb9",
   "metadata": {},
   "source": [
    "## Model building is done, now we can see the visualization to get the best k value by elbow method."
   ]
  },
  {
   "cell_type": "markdown",
   "id": "b178cf7e",
   "metadata": {},
   "source": [
    "### Visulization for getting elbow method to find the actual k value."
   ]
  },
  {
   "cell_type": "code",
   "execution_count": 71,
   "id": "db29ec7c",
   "metadata": {},
   "outputs": [
    {
     "data": {
      "image/png": "[encoded data removed]",
      "text/plain": [
       "<Figure size 720x720 with 1 Axes>"
      ]
     },
     "metadata": {
      "needs_background": "light"
     },
     "output_type": "display_data"
    }
   ],
   "source": [
    "plt.figure(figsize=(10,10))\n",
    "sns.pointplot(x=list(sum_of_sq_dist.keys()),\n",
    "             y=list(sum_of_sq_dist.values()))\n",
    "plt.xlabel(\"Number of clusters(k)\")\n",
    "plt.ylabel(\"Sum of Square Distance(Euclidean Distance)\")\n",
    "plt.title(\"ELBOW METHOD FOR OPTIMAL K VALUE\")\n",
    "plt.show()"
   ]
  },
  {
   "cell_type": "code",
   "execution_count": 69,
   "id": "56af05f9",
   "metadata": {},
   "outputs": [],
   "source": [
    "km=KMeans(n_clusters=14,init=\"k-means++\",max_iter=100)"
   ]
  },
  {
   "cell_type": "code",
   "execution_count": 70,
   "id": "75f45e9c",
   "metadata": {},
   "outputs": [
    {
     "data": {
      "text/plain": [
       "array([13,  6,  6, ..., 10,  4,  4])"
      ]
     },
     "execution_count": 70,
     "metadata": {},
     "output_type": "execute_result"
    }
   ],
   "source": [
    "y_kmeans=km.fit_predict(scaled_data_DF)\n",
    "y_kmeans"
   ]
  },
  {
   "cell_type": "code",
   "execution_count": 72,
   "id": "a54155a7",
   "metadata": {},
   "outputs": [],
   "source": [
    "RFMScore[\"CLUSTER\"]=km.labels_"
   ]
  },
  {
   "cell_type": "code",
   "execution_count": 74,
   "id": "4d6bbae2",
   "metadata": {},
   "outputs": [
    {
     "data": {
      "text/html": [
       "<div>\n",
       "<style scoped>\n",
       "    .dataframe tbody tr th:only-of-type {\n",
       "        vertical-align: middle;\n",
       "    }\n",
       "\n",
       "    .dataframe tbody tr th {\n",
       "        vertical-align: top;\n",
       "    }\n",
       "\n",
       "    .dataframe thead th {\n",
       "        text-align: right;\n",
       "    }\n",
       "</style>\n",
       "<table border=\"1\" class=\"dataframe\">\n",
       "  <thead>\n",
       "    <tr style=\"text-align: right;\">\n",
       "      <th></th>\n",
       "      <th>CustomerID</th>\n",
       "      <th>Recency</th>\n",
       "      <th>Frequency</th>\n",
       "      <th>Monetary</th>\n",
       "      <th>R</th>\n",
       "      <th>F</th>\n",
       "      <th>M</th>\n",
       "      <th>RFM_ID</th>\n",
       "      <th>RFM_SUM</th>\n",
       "      <th>RFM_Loyality</th>\n",
       "      <th>CLUSTER</th>\n",
       "      <th>segment</th>\n",
       "    </tr>\n",
       "  </thead>\n",
       "  <tbody>\n",
       "    <tr>\n",
       "      <th>0</th>\n",
       "      <td>12346.0</td>\n",
       "      <td>142</td>\n",
       "      <td>2</td>\n",
       "      <td>77183.60</td>\n",
       "      <td>2</td>\n",
       "      <td>3</td>\n",
       "      <td>4</td>\n",
       "      <td>234</td>\n",
       "      <td>9</td>\n",
       "      <td>Diamond</td>\n",
       "      <td>13</td>\n",
       "      <td>cant_loose</td>\n",
       "    </tr>\n",
       "    <tr>\n",
       "      <th>1</th>\n",
       "      <td>12347.0</td>\n",
       "      <td>134</td>\n",
       "      <td>1</td>\n",
       "      <td>475.39</td>\n",
       "      <td>2</td>\n",
       "      <td>1</td>\n",
       "      <td>3</td>\n",
       "      <td>213</td>\n",
       "      <td>6</td>\n",
       "      <td>Gold</td>\n",
       "      <td>6</td>\n",
       "      <td>at_Risk</td>\n",
       "    </tr>\n",
       "    <tr>\n",
       "      <th>2</th>\n",
       "      <td>12348.0</td>\n",
       "      <td>135</td>\n",
       "      <td>2</td>\n",
       "      <td>1120.24</td>\n",
       "      <td>2</td>\n",
       "      <td>3</td>\n",
       "      <td>4</td>\n",
       "      <td>234</td>\n",
       "      <td>9</td>\n",
       "      <td>Diamond</td>\n",
       "      <td>6</td>\n",
       "      <td>cant_loose</td>\n",
       "    </tr>\n",
       "    <tr>\n",
       "      <th>3</th>\n",
       "      <td>12350.0</td>\n",
       "      <td>127</td>\n",
       "      <td>1</td>\n",
       "      <td>334.40</td>\n",
       "      <td>2</td>\n",
       "      <td>1</td>\n",
       "      <td>2</td>\n",
       "      <td>212</td>\n",
       "      <td>5</td>\n",
       "      <td>Silver</td>\n",
       "      <td>6</td>\n",
       "      <td>new_customers</td>\n",
       "    </tr>\n",
       "    <tr>\n",
       "      <th>4</th>\n",
       "      <td>12352.0</td>\n",
       "      <td>100</td>\n",
       "      <td>5</td>\n",
       "      <td>1281.15</td>\n",
       "      <td>4</td>\n",
       "      <td>4</td>\n",
       "      <td>4</td>\n",
       "      <td>444</td>\n",
       "      <td>12</td>\n",
       "      <td>Platinum</td>\n",
       "      <td>11</td>\n",
       "      <td>loyal_customers</td>\n",
       "    </tr>\n",
       "  </tbody>\n",
       "</table>\n",
       "</div>"
      ],
      "text/plain": [
       "   CustomerID  Recency  Frequency  Monetary  R  F  M RFM_ID  RFM_SUM  \\\n",
       "0     12346.0      142          2  77183.60  2  3  4    234        9   \n",
       "1     12347.0      134          1    475.39  2  1  3    213        6   \n",
       "2     12348.0      135          2   1120.24  2  3  4    234        9   \n",
       "3     12350.0      127          1    334.40  2  1  2    212        5   \n",
       "4     12352.0      100          5   1281.15  4  4  4    444       12   \n",
       "\n",
       "  RFM_Loyality  CLUSTER          segment  \n",
       "0      Diamond       13       cant_loose  \n",
       "1         Gold        6          at_Risk  \n",
       "2      Diamond        6       cant_loose  \n",
       "3       Silver        6    new_customers  \n",
       "4     Platinum       11  loyal_customers  "
      ]
     },
     "execution_count": 74,
     "metadata": {},
     "output_type": "execute_result"
    }
   ],
   "source": [
    "seg_map = {\n",
    "    r'[1][1-2][2-3]': 'Inactive',\n",
    "    r'[1-2][1-3][3]': 'at_Risk',\n",
    "    r'[1-2][1-4][4]': 'cant_loose',\n",
    "    r'[1][1-4][2-4]': 'about_to_sleep',\n",
    "    r'[3][3][3]': 'need_attention',\n",
    "    r'[2-4][3-4][3-4]': 'loyal_customers',\n",
    "    r'[3-4][3-4][2-4]': 'promising',\n",
    "    r'[1-2][1-4][1-2]': 'new_customers',\n",
    "    r'[2-4][2-3][2]': 'potential_loyalists',\n",
    "    r'[3-4][1-3][1-2]': 'promising',\n",
    "    r'[3-4][2-4][1-2]': 'new_customers',\n",
    "    r'[3-4][1-3][2-4]': 'potential_loyalists',\n",
    "    r'[3-4][3-4][3-4]': 'Most Important'\n",
    "    \n",
    "}\n",
    "RFMScore['segment'] = RFMScore['RFM_ID'].replace(seg_map, regex=True)\n",
    "#RMFScore_final(inplace=True)\n",
    "#RMFScore_final.reset_index(inplace=True)\n",
    "RFMScore.head()"
   ]
  },
  {
   "cell_type": "code",
   "execution_count": 75,
   "id": "f381ad74",
   "metadata": {},
   "outputs": [
    {
     "data": {
      "text/html": [
       "<div>\n",
       "<style scoped>\n",
       "    .dataframe tbody tr th:only-of-type {\n",
       "        vertical-align: middle;\n",
       "    }\n",
       "\n",
       "    .dataframe tbody tr th {\n",
       "        vertical-align: top;\n",
       "    }\n",
       "\n",
       "    .dataframe thead th {\n",
       "        text-align: right;\n",
       "    }\n",
       "</style>\n",
       "<table border=\"1\" class=\"dataframe\">\n",
       "  <thead>\n",
       "    <tr style=\"text-align: right;\">\n",
       "      <th></th>\n",
       "      <th>CustomerID</th>\n",
       "      <th>Recency</th>\n",
       "      <th>Frequency</th>\n",
       "      <th>Monetary</th>\n",
       "      <th>R</th>\n",
       "      <th>F</th>\n",
       "      <th>M</th>\n",
       "      <th>RFM_ID</th>\n",
       "      <th>RFM_SUM</th>\n",
       "      <th>RFM_Loyality</th>\n",
       "      <th>CLUSTER</th>\n",
       "      <th>segment</th>\n",
       "    </tr>\n",
       "  </thead>\n",
       "  <tbody>\n",
       "    <tr>\n",
       "      <th>0</th>\n",
       "      <td>12346.0</td>\n",
       "      <td>142</td>\n",
       "      <td>2</td>\n",
       "      <td>77183.60</td>\n",
       "      <td>2</td>\n",
       "      <td>3</td>\n",
       "      <td>4</td>\n",
       "      <td>234</td>\n",
       "      <td>9</td>\n",
       "      <td>Diamond</td>\n",
       "      <td>13</td>\n",
       "      <td>cant_loose</td>\n",
       "    </tr>\n",
       "    <tr>\n",
       "      <th>1</th>\n",
       "      <td>12347.0</td>\n",
       "      <td>134</td>\n",
       "      <td>1</td>\n",
       "      <td>475.39</td>\n",
       "      <td>2</td>\n",
       "      <td>1</td>\n",
       "      <td>3</td>\n",
       "      <td>213</td>\n",
       "      <td>6</td>\n",
       "      <td>Gold</td>\n",
       "      <td>6</td>\n",
       "      <td>at_Risk</td>\n",
       "    </tr>\n",
       "    <tr>\n",
       "      <th>2</th>\n",
       "      <td>12348.0</td>\n",
       "      <td>135</td>\n",
       "      <td>2</td>\n",
       "      <td>1120.24</td>\n",
       "      <td>2</td>\n",
       "      <td>3</td>\n",
       "      <td>4</td>\n",
       "      <td>234</td>\n",
       "      <td>9</td>\n",
       "      <td>Diamond</td>\n",
       "      <td>6</td>\n",
       "      <td>cant_loose</td>\n",
       "    </tr>\n",
       "    <tr>\n",
       "      <th>3</th>\n",
       "      <td>12350.0</td>\n",
       "      <td>127</td>\n",
       "      <td>1</td>\n",
       "      <td>334.40</td>\n",
       "      <td>2</td>\n",
       "      <td>1</td>\n",
       "      <td>2</td>\n",
       "      <td>212</td>\n",
       "      <td>5</td>\n",
       "      <td>Silver</td>\n",
       "      <td>6</td>\n",
       "      <td>new_customers</td>\n",
       "    </tr>\n",
       "    <tr>\n",
       "      <th>4</th>\n",
       "      <td>12352.0</td>\n",
       "      <td>100</td>\n",
       "      <td>5</td>\n",
       "      <td>1281.15</td>\n",
       "      <td>4</td>\n",
       "      <td>4</td>\n",
       "      <td>4</td>\n",
       "      <td>444</td>\n",
       "      <td>12</td>\n",
       "      <td>Platinum</td>\n",
       "      <td>11</td>\n",
       "      <td>loyal_customers</td>\n",
       "    </tr>\n",
       "  </tbody>\n",
       "</table>\n",
       "</div>"
      ],
      "text/plain": [
       "   CustomerID  Recency  Frequency  Monetary  R  F  M RFM_ID  RFM_SUM  \\\n",
       "0     12346.0      142          2  77183.60  2  3  4    234        9   \n",
       "1     12347.0      134          1    475.39  2  1  3    213        6   \n",
       "2     12348.0      135          2   1120.24  2  3  4    234        9   \n",
       "3     12350.0      127          1    334.40  2  1  2    212        5   \n",
       "4     12352.0      100          5   1281.15  4  4  4    444       12   \n",
       "\n",
       "  RFM_Loyality  CLUSTER          segment  \n",
       "0      Diamond       13       cant_loose  \n",
       "1         Gold        6          at_Risk  \n",
       "2      Diamond        6       cant_loose  \n",
       "3       Silver        6    new_customers  \n",
       "4     Platinum       11  loyal_customers  "
      ]
     },
     "execution_count": 75,
     "metadata": {},
     "output_type": "execute_result"
    }
   ],
   "source": [
    "RFMScore.head()"
   ]
  },
  {
   "cell_type": "code",
   "execution_count": 83,
   "id": "9448fd05",
   "metadata": {},
   "outputs": [
    {
     "data": {
      "text/plain": [
       "new_customers          315\n",
       "loyal_customers        311\n",
       "promising              286\n",
       "Inactive               148\n",
       "cant_loose             119\n",
       "potential_loyalists    104\n",
       "at_Risk                 93\n",
       "need_attention          30\n",
       "about_to_sleep          22\n",
       "Name: segment, dtype: int64"
      ]
     },
     "execution_count": 83,
     "metadata": {},
     "output_type": "execute_result"
    }
   ],
   "source": [
    "RFMScore['segment'].value_counts()"
   ]
  },
  {
   "cell_type": "code",
   "execution_count": 84,
   "id": "48765d8e",
   "metadata": {},
   "outputs": [
    {
     "data": {
      "image/png": "[encoded data removed]",
      "text/plain": [
       "<Figure size 1440x720 with 1 Axes>"
      ]
     },
     "metadata": {},
     "output_type": "display_data"
    }
   ],
   "source": [
    "fig  = plt.figure(figsize = (20,10)).suptitle('Custumers Distribution of Segments', fontsize=25)\n",
    "plt.pie(segments_count[\"count\"], labels = segments_count[\"segment\"], autopct='%.0f%%')\n",
    "\n",
    "plt.show()"
   ]
  },
  {
   "cell_type": "code",
   "execution_count": 85,
   "id": "72ed7057",
   "metadata": {},
   "outputs": [
    {
     "data": {
      "text/html": [
       "<div>\n",
       "<style scoped>\n",
       "    .dataframe tbody tr th:only-of-type {\n",
       "        vertical-align: middle;\n",
       "    }\n",
       "\n",
       "    .dataframe tbody tr th {\n",
       "        vertical-align: top;\n",
       "    }\n",
       "\n",
       "    .dataframe thead tr th {\n",
       "        text-align: left;\n",
       "    }\n",
       "\n",
       "    .dataframe thead tr:last-of-type th {\n",
       "        text-align: right;\n",
       "    }\n",
       "</style>\n",
       "<table border=\"1\" class=\"dataframe\">\n",
       "  <thead>\n",
       "    <tr>\n",
       "      <th></th>\n",
       "      <th colspan=\"3\" halign=\"left\">Recency</th>\n",
       "      <th colspan=\"3\" halign=\"left\">Frequency</th>\n",
       "      <th colspan=\"3\" halign=\"left\">Monetary</th>\n",
       "    </tr>\n",
       "    <tr>\n",
       "      <th></th>\n",
       "      <th>mean</th>\n",
       "      <th>count</th>\n",
       "      <th>max</th>\n",
       "      <th>mean</th>\n",
       "      <th>count</th>\n",
       "      <th>max</th>\n",
       "      <th>mean</th>\n",
       "      <th>count</th>\n",
       "      <th>max</th>\n",
       "    </tr>\n",
       "    <tr>\n",
       "      <th>segment</th>\n",
       "      <th></th>\n",
       "      <th></th>\n",
       "      <th></th>\n",
       "      <th></th>\n",
       "      <th></th>\n",
       "      <th></th>\n",
       "      <th></th>\n",
       "      <th></th>\n",
       "      <th></th>\n",
       "    </tr>\n",
       "  </thead>\n",
       "  <tbody>\n",
       "    <tr>\n",
       "      <th>Inactive</th>\n",
       "      <td>163.587838</td>\n",
       "      <td>148</td>\n",
       "      <td>189</td>\n",
       "      <td>1.000000</td>\n",
       "      <td>148</td>\n",
       "      <td>1</td>\n",
       "      <td>330.812838</td>\n",
       "      <td>148</td>\n",
       "      <td>716.11</td>\n",
       "    </tr>\n",
       "    <tr>\n",
       "      <th>about_to_sleep</th>\n",
       "      <td>159.500000</td>\n",
       "      <td>22</td>\n",
       "      <td>189</td>\n",
       "      <td>2.454545</td>\n",
       "      <td>22</td>\n",
       "      <td>5</td>\n",
       "      <td>314.050000</td>\n",
       "      <td>22</td>\n",
       "      <td>640.12</td>\n",
       "    </tr>\n",
       "    <tr>\n",
       "      <th>at_Risk</th>\n",
       "      <td>135.419355</td>\n",
       "      <td>93</td>\n",
       "      <td>170</td>\n",
       "      <td>1.494624</td>\n",
       "      <td>93</td>\n",
       "      <td>2</td>\n",
       "      <td>499.497742</td>\n",
       "      <td>93</td>\n",
       "      <td>717.02</td>\n",
       "    </tr>\n",
       "    <tr>\n",
       "      <th>cant_loose</th>\n",
       "      <td>141.302521</td>\n",
       "      <td>119</td>\n",
       "      <td>189</td>\n",
       "      <td>2.176471</td>\n",
       "      <td>119</td>\n",
       "      <td>7</td>\n",
       "      <td>2271.179328</td>\n",
       "      <td>119</td>\n",
       "      <td>77183.60</td>\n",
       "    </tr>\n",
       "    <tr>\n",
       "      <th>loyal_customers</th>\n",
       "      <td>82.360129</td>\n",
       "      <td>311</td>\n",
       "      <td>135</td>\n",
       "      <td>4.536977</td>\n",
       "      <td>311</td>\n",
       "      <td>31</td>\n",
       "      <td>2019.859936</td>\n",
       "      <td>311</td>\n",
       "      <td>54654.32</td>\n",
       "    </tr>\n",
       "    <tr>\n",
       "      <th>need_attention</th>\n",
       "      <td>119.466667</td>\n",
       "      <td>30</td>\n",
       "      <td>126</td>\n",
       "      <td>2.000000</td>\n",
       "      <td>30</td>\n",
       "      <td>2</td>\n",
       "      <td>507.592667</td>\n",
       "      <td>30</td>\n",
       "      <td>688.80</td>\n",
       "    </tr>\n",
       "    <tr>\n",
       "      <th>new_customers</th>\n",
       "      <td>145.152381</td>\n",
       "      <td>315</td>\n",
       "      <td>189</td>\n",
       "      <td>1.228571</td>\n",
       "      <td>315</td>\n",
       "      <td>6</td>\n",
       "      <td>151.433302</td>\n",
       "      <td>315</td>\n",
       "      <td>340.24</td>\n",
       "    </tr>\n",
       "    <tr>\n",
       "      <th>potential_loyalists</th>\n",
       "      <td>94.173077</td>\n",
       "      <td>104</td>\n",
       "      <td>126</td>\n",
       "      <td>1.000000</td>\n",
       "      <td>104</td>\n",
       "      <td>1</td>\n",
       "      <td>648.698942</td>\n",
       "      <td>104</td>\n",
       "      <td>1784.71</td>\n",
       "    </tr>\n",
       "    <tr>\n",
       "      <th>promising</th>\n",
       "      <td>85.562937</td>\n",
       "      <td>286</td>\n",
       "      <td>126</td>\n",
       "      <td>1.321678</td>\n",
       "      <td>286</td>\n",
       "      <td>6</td>\n",
       "      <td>186.690175</td>\n",
       "      <td>286</td>\n",
       "      <td>340.56</td>\n",
       "    </tr>\n",
       "  </tbody>\n",
       "</table>\n",
       "</div>"
      ],
      "text/plain": [
       "                        Recency            Frequency               Monetary  \\\n",
       "                           mean count  max      mean count max         mean   \n",
       "segment                                                                       \n",
       "Inactive             163.587838   148  189  1.000000   148   1   330.812838   \n",
       "about_to_sleep       159.500000    22  189  2.454545    22   5   314.050000   \n",
       "at_Risk              135.419355    93  170  1.494624    93   2   499.497742   \n",
       "cant_loose           141.302521   119  189  2.176471   119   7  2271.179328   \n",
       "loyal_customers       82.360129   311  135  4.536977   311  31  2019.859936   \n",
       "need_attention       119.466667    30  126  2.000000    30   2   507.592667   \n",
       "new_customers        145.152381   315  189  1.228571   315   6   151.433302   \n",
       "potential_loyalists   94.173077   104  126  1.000000   104   1   648.698942   \n",
       "promising             85.562937   286  126  1.321678   286   6   186.690175   \n",
       "\n",
       "                                     \n",
       "                    count       max  \n",
       "segment                              \n",
       "Inactive              148    716.11  \n",
       "about_to_sleep         22    640.12  \n",
       "at_Risk                93    717.02  \n",
       "cant_loose            119  77183.60  \n",
       "loyal_customers       311  54654.32  \n",
       "need_attention         30    688.80  \n",
       "new_customers         315    340.24  \n",
       "potential_loyalists   104   1784.71  \n",
       "promising             286    340.56  "
      ]
     },
     "execution_count": 85,
     "metadata": {},
     "output_type": "execute_result"
    }
   ],
   "source": [
    "agg_list=[\"mean\", \"count\", \"max\"]\n",
    "RFMScore[[\"segment\",\"Recency\",\"Frequency\",\"Monetary\"]].groupby(\"segment\").agg(agg_list)"
   ]
  },
  {
   "cell_type": "markdown",
   "id": "7b228972",
   "metadata": {},
   "source": [
    "# Apparently there are 22% of customers considered as Champions. These customers are responsible for a big share of your revenue so we can put a lot of effort into keeping imroving their experience."
   ]
  },
  {
   "cell_type": "code",
   "execution_count": null,
   "id": "612964fd",
   "metadata": {},
   "outputs": [],
   "source": []
  }
 ],
 "metadata": {
  "kernelspec": {
   "display_name": "Python 3 (ipykernel)",
   "language": "python",
   "name": "python3"
  },
  "language_info": {
   "codemirror_mode": {
    "name": "ipython",
    "version": 3
   },
   "file_extension": ".py",
   "mimetype": "text/x-python",
   "name": "python",
   "nbconvert_exporter": "python",
   "pygments_lexer": "ipython3",
   "version": "3.9.12"
  }
 },
 "nbformat": 4,
 "nbformat_minor": 5
}
